{
 "cells": [
  {
   "cell_type": "code",
   "execution_count": 1,
   "id": "91fb57fb",
   "metadata": {},
   "outputs": [],
   "source": [
    "from utils.utils import gait_dataloader\n",
    "from utils.utils import init_model"
   ]
  },
  {
   "cell_type": "code",
   "execution_count": 2,
   "id": "5f84c642",
   "metadata": {},
   "outputs": [],
   "source": [
    "from sklearn import svm\n",
    "from sklearn.ensemble import RandomForestClassifier\n",
    "from sklearn.neighbors import KNeighborsClassifier\n",
    "from sklearn.metrics import accuracy_score"
   ]
  },
  {
   "cell_type": "code",
   "execution_count": 3,
   "id": "c9d274d3",
   "metadata": {},
   "outputs": [],
   "source": [
    "from sktime.classification.kernel_based import RocketClassifier\n",
    "from sktime.classification.dictionary_based import ContractableBOSS\n",
    "from sktime.classification.dictionary_based import IndividualBOSS\n",
    "from sktime.classification.hybrid import HIVECOTEV2"
   ]
  },
  {
   "cell_type": "markdown",
   "id": "d00a0076",
   "metadata": {},
   "source": [
    "# Load flattened data"
   ]
  },
  {
   "cell_type": "code",
   "execution_count": 17,
   "id": "6e5950a5",
   "metadata": {},
   "outputs": [],
   "source": [
    "dataset = \"LeftSide_RightSide\"\n",
    "\n",
    "x_train, y_train ,x_test, y_test, x_pred, y_pred, nb_classes = gait_dataloader(data_type='numpy',dataset=dataset,flatten = True)\n",
    "# data_loader_train, data_loader_test, data_loader_pred = gait_dataloader(data_type='torch',dataset=dataset)"
   ]
  },
  {
   "cell_type": "markdown",
   "id": "32d4cf8a",
   "metadata": {},
   "source": [
    "# SVM"
   ]
  },
  {
   "cell_type": "code",
   "execution_count": 5,
   "id": "3d8af4e5",
   "metadata": {},
   "outputs": [
    {
     "data": {
      "text/plain": [
       "0.8604651162790697"
      ]
     },
     "execution_count": 5,
     "metadata": {},
     "output_type": "execute_result"
    }
   ],
   "source": [
    "classifer = init_model(model=svm.SVC())\n",
    "classifer.fit(x_train, y_train)\n",
    "prediction_pre = classifer.predict(x_pred)\n",
    "accuracy_score(y_pred,prediction_pre)"
   ]
  },
  {
   "cell_type": "markdown",
   "id": "1a608f46",
   "metadata": {},
   "source": [
    "# Random Forest"
   ]
  },
  {
   "cell_type": "code",
   "execution_count": 6,
   "id": "852f512b",
   "metadata": {},
   "outputs": [
    {
     "data": {
      "text/plain": [
       "0.8372093023255814"
      ]
     },
     "execution_count": 6,
     "metadata": {},
     "output_type": "execute_result"
    }
   ],
   "source": [
    "classifer = init_model(model=RandomForestClassifier(random_state=1))\n",
    "classifer.fit(x_train, y_train)\n",
    "prediction_pre = classifer.predict(x_pred)\n",
    "accuracy_score(y_pred,prediction_pre)"
   ]
  },
  {
   "cell_type": "markdown",
   "id": "de43b86d",
   "metadata": {},
   "source": [
    "# KNN"
   ]
  },
  {
   "cell_type": "code",
   "execution_count": 7,
   "id": "47978495",
   "metadata": {},
   "outputs": [
    {
     "data": {
      "text/plain": [
       "0.769889840881273"
      ]
     },
     "execution_count": 7,
     "metadata": {},
     "output_type": "execute_result"
    }
   ],
   "source": [
    "classifer = init_model(model=KNeighborsClassifier(n_neighbors=5))\n",
    "classifer.fit(x_train, y_train)\n",
    "prediction_pre = classifer.predict(x_pred)\n",
    "accuracy_score(y_pred,prediction_pre)"
   ]
  },
  {
   "cell_type": "markdown",
   "id": "6e120788",
   "metadata": {},
   "source": [
    "# Rocket"
   ]
  },
  {
   "cell_type": "code",
   "execution_count": 8,
   "id": "c2917aac",
   "metadata": {},
   "outputs": [
    {
     "name": "stderr",
     "output_type": "stream",
     "text": [
      "/home/aorus-users/miniconda3/envs/env_zhengyang/lib/python3.9/site-packages/sklearn/linear_model/_base.py:141: FutureWarning: 'normalize' was deprecated in version 1.0 and will be removed in 1.2.\n",
      "If you wish to scale the data, use Pipeline with a StandardScaler in a preprocessing stage. To reproduce the previous behavior:\n",
      "\n",
      "from sklearn.pipeline import make_pipeline\n",
      "\n",
      "model = make_pipeline(StandardScaler(with_mean=False), _RidgeGCV())\n",
      "\n",
      "If you wish to pass a sample_weight parameter, you need to pass it as a fit parameter to each step of the pipeline as follows:\n",
      "\n",
      "kwargs = {s[0] + '__sample_weight': sample_weight for s in model.steps}\n",
      "model.fit(X, y, **kwargs)\n",
      "\n",
      "\n",
      "  warnings.warn(\n"
     ]
    },
    {
     "data": {
      "text/plain": [
       "0.8017135862913096"
      ]
     },
     "execution_count": 8,
     "metadata": {},
     "output_type": "execute_result"
    }
   ],
   "source": [
    "classifer = init_model(model= RocketClassifier())\n",
    "classifer.fit(x_train, y_train)\n",
    "prediction_pre = classifer.predict(x_pred)\n",
    "accuracy_score(y_pred,prediction_pre)"
   ]
  },
  {
   "cell_type": "markdown",
   "id": "986ecd0c",
   "metadata": {},
   "source": [
    "# BOSS"
   ]
  },
  {
   "cell_type": "code",
   "execution_count": 9,
   "id": "b87ac5c3",
   "metadata": {},
   "outputs": [
    {
     "data": {
      "text/plain": [
       "0.5116279069767442"
      ]
     },
     "execution_count": 9,
     "metadata": {},
     "output_type": "execute_result"
    }
   ],
   "source": [
    "classifer = init_model(model= IndividualBOSS())\n",
    "classifer.fit(x_train, y_train)\n",
    "prediction_pre = classifer.predict(x_pred)\n",
    "accuracy_score(y_pred,prediction_pre)"
   ]
  },
  {
   "cell_type": "markdown",
   "id": "2011138d",
   "metadata": {},
   "source": [
    "# cBOSS"
   ]
  },
  {
   "cell_type": "code",
   "execution_count": 10,
   "id": "f2005650",
   "metadata": {},
   "outputs": [
    {
     "data": {
      "text/plain": [
       "0.6450428396572827"
      ]
     },
     "execution_count": 10,
     "metadata": {},
     "output_type": "execute_result"
    }
   ],
   "source": [
    "classifer = init_model(model= ContractableBOSS())\n",
    "classifer.fit(x_train, y_train)\n",
    "prediction_pre = classifer.predict(x_pred)\n",
    "accuracy_score(y_pred,prediction_pre)"
   ]
  },
  {
   "cell_type": "markdown",
   "id": "cbf263d3",
   "metadata": {},
   "source": [
    "# HIVECOTEV2"
   ]
  },
  {
   "cell_type": "code",
   "execution_count": null,
   "id": "b829a9f9",
   "metadata": {},
   "outputs": [],
   "source": [
    "classifer = init_model(model= HIVECOTEV2())\n",
    "classifer.fit(x_train, y_train)\n",
    "prediction_pre = classifer.predict(x_pred)\n",
    "accuracy_score(y_pred,prediction_pre)"
   ]
  },
  {
   "cell_type": "markdown",
   "id": "0dba1bf4",
   "metadata": {},
   "source": [
    "# Load same data no flattened"
   ]
  },
  {
   "cell_type": "code",
   "execution_count": 3,
   "id": "d6161801",
   "metadata": {},
   "outputs": [],
   "source": [
    "dataset = \"LeftSide_RightSide\"\n",
    "\n",
    "x_train, y_train ,x_test, y_test, x_pred, y_pred, nb_classes = gait_dataloader(data_type='numpy',dataset=dataset,flatten = False)"
   ]
  },
  {
   "cell_type": "markdown",
   "id": "9f02cfd1",
   "metadata": {},
   "source": [
    "# ResNet"
   ]
  },
  {
   "cell_type": "code",
   "execution_count": 6,
   "id": "56a56dc6",
   "metadata": {},
   "outputs": [],
   "source": [
    "classifer = init_model(model_name='ResNet')\n",
    "\n",
    "# model.fit(x_train, y_train)\n",
    "# prediction_pre = model.predict(x_pred)\n",
    "# accuracy_score(y_pred,prediction_pre)"
   ]
  },
  {
   "cell_type": "code",
   "execution_count": 7,
   "id": "e6f82d94",
   "metadata": {},
   "outputs": [
    {
     "name": "stderr",
     "output_type": "stream",
     "text": [
      "GPU available: True, used: True\n",
      "TPU available: False, using: 0 TPU cores\n",
      "IPU available: False, using: 0 IPUs\n",
      "LOCAL_RANK: 0 - CUDA_VISIBLE_DEVICES: [0,1,2,3]\n",
      "Using TensorFlow backend.\n",
      "\n",
      "   | Name               | Type              | Params\n",
      "----------------------------------------------------------\n",
      "0  | conv1              | Conv1d            | 3.9 K \n",
      "1  | conv2              | Conv1d            | 2.4 K \n",
      "2  | conv3              | Conv1d            | 1.5 K \n",
      "3  | conv4              | Conv1d            | 506   \n",
      "4  | BN1                | BatchNorm1d       | 44    \n",
      "5  | BN2                | BatchNorm1d       | 44    \n",
      "6  | BN3                | BatchNorm1d       | 44    \n",
      "7  | BN4                | BatchNorm1d       | 44    \n",
      "8  | relu               | ReLU              | 0     \n",
      "9  | conv5              | Conv1d            | 3.9 K \n",
      "10 | conv6              | Conv1d            | 2.4 K \n",
      "11 | conv7              | Conv1d            | 1.5 K \n",
      "12 | conv8              | Conv1d            | 506   \n",
      "13 | BN5                | BatchNorm1d       | 44    \n",
      "14 | BN6                | BatchNorm1d       | 44    \n",
      "15 | BN7                | BatchNorm1d       | 44    \n",
      "16 | BN8                | BatchNorm1d       | 44    \n",
      "17 | conv9              | Conv1d            | 3.9 K \n",
      "18 | conv10             | Conv1d            | 2.4 K \n",
      "19 | conv11             | Conv1d            | 1.5 K \n",
      "20 | conv12             | Conv1d            | 506   \n",
      "21 | BN9                | BatchNorm1d       | 44    \n",
      "22 | BN10               | BatchNorm1d       | 44    \n",
      "23 | BN11               | BatchNorm1d       | 44    \n",
      "24 | BN12               | BatchNorm1d       | 44    \n",
      "25 | globalavgpooling1d | AdaptiveAvgPool1d | 0     \n",
      "26 | fc_output          | Linear            | 46    \n",
      "27 | softmax            | Softmax           | 0     \n",
      "----------------------------------------------------------\n",
      "25.5 K    Trainable params\n",
      "0         Non-trainable params\n",
      "25.5 K    Total params\n",
      "0.102     Total estimated model params size (MB)\n"
     ]
    },
    {
     "name": "stdout",
     "output_type": "stream",
     "text": [
      "Validation sanity check:   0%|                                                                                                | 0/2 [00:00<?, ?it/s]"
     ]
    },
    {
     "name": "stderr",
     "output_type": "stream",
     "text": [
      "/home/aorus-users/miniconda3/envs/env_zhengyang/lib/python3.9/site-packages/pytorch_lightning/trainer/data_loading.py:453: UserWarning: Your `val_dataloader` has `shuffle=True`,it is strongly recommended that you turn this off for val/test/predict dataloaders.\n",
      "  rank_zero_warn(\n"
     ]
    },
    {
     "name": "stdout",
     "output_type": "stream",
     "text": [
      "                                                                                                                                                    "
     ]
    },
    {
     "name": "stderr",
     "output_type": "stream",
     "text": [
      "/mnt/Data/Zhengyang/InceptionTime/classifiers/ResNet.py:139: UserWarning: Implicit dimension choice for softmax has been deprecated. Change the call to include dim=X as an argument.\n",
      "  output_layer = self.softmax(output_layer)\n",
      "/home/aorus-users/miniconda3/envs/env_zhengyang/lib/python3.9/site-packages/pytorch_lightning/trainer/data_loading.py:407: UserWarning: The number of training samples (26) is smaller than the logging interval Trainer(log_every_n_steps=50). Set a lower value for log_every_n_steps if you want to see logs for the training epoch.\n",
      "  rank_zero_warn(\n"
     ]
    },
    {
     "name": "stdout",
     "output_type": "stream",
     "text": [
      "Epoch 0:  84%|██████████████████████████████████████████████████████████████████▎            | 26/31 [00:00<00:00, 31.67it/s, loss=0.277, v_num=366]\n",
      "Validating: 0it [00:00, ?it/s]\u001b[A\n",
      "Validating:   0%|                                                                                                             | 0/5 [00:00<?, ?it/s]\u001b[A\n",
      "Epoch 0: 100%|███████████████████████████████████████████████████████████████████████████████| 31/31 [00:01<00:00, 25.27it/s, loss=0.277, v_num=366]\u001b[A\n",
      "Epoch 1:  84%|██████████████████████████████████████████████████████████████████▎            | 26/31 [00:00<00:00, 33.64it/s, loss=0.135, v_num=366]\u001b[A\n",
      "Validating: 0it [00:00, ?it/s]\u001b[A\n",
      "Validating:   0%|                                                                                                             | 0/5 [00:00<?, ?it/s]\u001b[A\n",
      "Epoch 1: 100%|███████████████████████████████████████████████████████████████████████████████| 31/31 [00:01<00:00, 28.12it/s, loss=0.135, v_num=366]\u001b[A\n",
      "Epoch 2:  87%|███████████████████████████████████████████████████████████████████▉          | 27/31 [00:00<00:00, 35.67it/s, loss=0.0666, v_num=366]\u001b[A\n",
      "Validating: 0it [00:00, ?it/s]\u001b[A\n",
      "Validating:   0%|                                                                                                             | 0/5 [00:00<?, ?it/s]\u001b[A\n",
      "Validating:  20%|████████████████████▏                                                                                | 1/5 [00:00<00:01,  3.49it/s]\u001b[A\n",
      "Epoch 2: 100%|██████████████████████████████████████████████████████████████████████████████| 31/31 [00:01<00:00, 26.83it/s, loss=0.0666, v_num=366]\u001b[A\n",
      "Epoch 3:  84%|█████████████████████████████████████████████████████████████████▍            | 26/31 [00:00<00:00, 34.45it/s, loss=0.0529, v_num=366]\u001b[A\n",
      "Validating: 0it [00:00, ?it/s]\u001b[A\n",
      "Validating:   0%|                                                                                                             | 0/5 [00:00<?, ?it/s]\u001b[A\n",
      "Epoch 3: 100%|██████████████████████████████████████████████████████████████████████████████| 31/31 [00:01<00:00, 28.23it/s, loss=0.0529, v_num=366]\u001b[A\n",
      "Epoch 4:  84%|█████████████████████████████████████████████████████████████████▍            | 26/31 [00:00<00:00, 34.88it/s, loss=0.0369, v_num=366]\u001b[A\n",
      "Validating: 0it [00:00, ?it/s]\u001b[A\n",
      "Validating:   0%|                                                                                                             | 0/5 [00:00<?, ?it/s]\u001b[A\n",
      "Epoch 4: 100%|██████████████████████████████████████████████████████████████████████████████| 31/31 [00:01<00:00, 29.35it/s, loss=0.0369, v_num=366]\u001b[A\n",
      "Epoch 5:  84%|█████████████████████████████████████████████████████████████████▍            | 26/31 [00:00<00:00, 41.12it/s, loss=0.0222, v_num=366]\u001b[A\n",
      "Validating: 0it [00:00, ?it/s]\u001b[A\n",
      "Validating:   0%|                                                                                                             | 0/5 [00:00<?, ?it/s]\u001b[A\n",
      "Epoch 5: 100%|██████████████████████████████████████████████████████████████████████████████| 31/31 [00:00<00:00, 35.78it/s, loss=0.0222, v_num=366]\u001b[A\n",
      "Epoch 6:  84%|█████████████████████████████████████████████████████████████████▍            | 26/31 [00:00<00:00, 39.42it/s, loss=0.0206, v_num=366]\u001b[A\n",
      "Validating: 0it [00:00, ?it/s]\u001b[A\n",
      "Validating:   0%|                                                                                                             | 0/5 [00:00<?, ?it/s]\u001b[A\n",
      "Epoch 6: 100%|██████████████████████████████████████████████████████████████████████████████| 31/31 [00:00<00:00, 34.06it/s, loss=0.0206, v_num=366]\u001b[A\n",
      "Epoch 7:  84%|█████████████████████████████████████████████████████████████████▍            | 26/31 [00:00<00:00, 39.37it/s, loss=0.0166, v_num=366]\u001b[A\n",
      "Validating: 0it [00:00, ?it/s]\u001b[A\n",
      "Validating:   0%|                                                                                                             | 0/5 [00:00<?, ?it/s]\u001b[A\n",
      "Epoch 7: 100%|██████████████████████████████████████████████████████████████████████████████| 31/31 [00:00<00:00, 34.05it/s, loss=0.0166, v_num=366]\u001b[A\n",
      "Epoch 8:  84%|████████████████████████████████████████████████████████████████▌            | 26/31 [00:01<00:00, 21.36it/s, loss=0.00834, v_num=366]\u001b[A\n",
      "Validating: 0it [00:00, ?it/s]\u001b[A\n",
      "Validating:   0%|                                                                                                             | 0/5 [00:00<?, ?it/s]\u001b[A\n",
      "Epoch 8: 100%|█████████████████████████████████████████████████████████████████████████████| 31/31 [00:01<00:00, 20.71it/s, loss=0.00834, v_num=366]\u001b[A\n",
      "Epoch 9:  84%|████████████████████████████████████████████████████████████████▌            | 26/31 [00:00<00:00, 33.64it/s, loss=0.00524, v_num=366]\u001b[A\n",
      "Validating: 0it [00:00, ?it/s]\u001b[A\n",
      "Validating:   0%|                                                                                                             | 0/5 [00:00<?, ?it/s]\u001b[A\n",
      "Epoch 9:  90%|█████████████████████████████████████████████████████████████████████▌       | 28/31 [00:00<00:00, 28.72it/s, loss=0.00524, v_num=366]\u001b[A\n",
      "Epoch 9: 100%|█████████████████████████████████████████████████████████████████████████████| 31/31 [00:01<00:00, 27.36it/s, loss=0.00524, v_num=366]\u001b[A\n",
      "Epoch 10:  84%|████████████████████████████████████████████████████████████████▌            | 26/31 [00:00<00:00, 31.51it/s, loss=0.0054, v_num=366]\u001b[A\n",
      "Validating: 0it [00:00, ?it/s]\u001b[A\n",
      "Validating:   0%|                                                                                                             | 0/5 [00:00<?, ?it/s]\u001b[A\n",
      "Epoch 10:  90%|█████████████████████████████████████████████████████████████████████▌       | 28/31 [00:01<00:00, 25.85it/s, loss=0.0054, v_num=366]\u001b[A\n",
      "Epoch 10: 100%|█████████████████████████████████████████████████████████████████████████████| 31/31 [00:01<00:00, 26.13it/s, loss=0.0054, v_num=366]\u001b[A\n",
      "Epoch 11:  84%|████████████████████████████████████████████████████████████████▌            | 26/31 [00:00<00:00, 36.09it/s, loss=0.0164, v_num=366]\u001b[A\n",
      "Validating: 0it [00:00, ?it/s]\u001b[A\n",
      "Validating:   0%|                                                                                                             | 0/5 [00:00<?, ?it/s]\u001b[A\n",
      "Epoch 11: 100%|█████████████████████████████████████████████████████████████████████████████| 31/31 [00:00<00:00, 31.41it/s, loss=0.0164, v_num=366]\u001b[A\n",
      "Epoch 12:  84%|████████████████████████████████████████████████████████████████▌            | 26/31 [00:00<00:00, 40.26it/s, loss=0.0245, v_num=366]\u001b[A\n",
      "Validating: 0it [00:00, ?it/s]\u001b[A\n",
      "Validating:   0%|                                                                                                             | 0/5 [00:00<?, ?it/s]\u001b[A\n",
      "Epoch 12: 100%|█████████████████████████████████████████████████████████████████████████████| 31/31 [00:00<00:00, 32.91it/s, loss=0.0245, v_num=366]\u001b[A\n",
      "Epoch 13:  84%|████████████████████████████████████████████████████████████████▌            | 26/31 [00:00<00:00, 36.90it/s, loss=0.0153, v_num=366]\u001b[A\n",
      "Validating: 0it [00:00, ?it/s]\u001b[A\n",
      "Validating:   0%|                                                                                                             | 0/5 [00:00<?, ?it/s]\u001b[A\n",
      "Epoch 13: 100%|█████████████████████████████████████████████████████████████████████████████| 31/31 [00:01<00:00, 30.67it/s, loss=0.0153, v_num=366]\u001b[A\n",
      "Epoch 14:  84%|████████████████████████████████████████████████████████████████▌            | 26/31 [00:01<00:00, 19.49it/s, loss=0.0269, v_num=366]\u001b[A\n",
      "Validating: 0it [00:00, ?it/s]\u001b[A\n",
      "Validating:   0%|                                                                                                             | 0/5 [00:00<?, ?it/s]\u001b[A\n",
      "Epoch 14: 100%|█████████████████████████████████████████████████████████████████████████████| 31/31 [00:01<00:00, 19.09it/s, loss=0.0269, v_num=366]\u001b[A\n",
      "Epoch 15:  84%|████████████████████████████████████████████████████████████████▌            | 26/31 [00:00<00:00, 34.06it/s, loss=0.0179, v_num=366]\u001b[A\n",
      "Validating: 0it [00:00, ?it/s]\u001b[A\n",
      "Validating:   0%|                                                                                                             | 0/5 [00:00<?, ?it/s]\u001b[A\n",
      "Epoch 15:  90%|█████████████████████████████████████████████████████████████████████▌       | 28/31 [00:01<00:00, 27.55it/s, loss=0.0179, v_num=366]\u001b[A\n",
      "Epoch 15: 100%|█████████████████████████████████████████████████████████████████████████████| 31/31 [00:01<00:00, 26.85it/s, loss=0.0179, v_num=366]\u001b[A\n",
      "Epoch 16:  84%|████████████████████████████████████████████████████████████████▌            | 26/31 [00:00<00:00, 33.89it/s, loss=0.0113, v_num=366]\u001b[A\n",
      "Validating: 0it [00:00, ?it/s]\u001b[A\n",
      "Validating:   0%|                                                                                                             | 0/5 [00:00<?, ?it/s]\u001b[A\n",
      "Epoch 16:  90%|█████████████████████████████████████████████████████████████████████▌       | 28/31 [00:01<00:00, 27.11it/s, loss=0.0113, v_num=366]\u001b[A\n",
      "Epoch 16: 100%|█████████████████████████████████████████████████████████████████████████████| 31/31 [00:01<00:00, 27.19it/s, loss=0.0113, v_num=366]\u001b[A\n",
      "Epoch 17:  84%|███████████████████████████████████████████████████████████████▋            | 26/31 [00:00<00:00, 34.44it/s, loss=0.00809, v_num=366]\u001b[A\n",
      "Validating: 0it [00:00, ?it/s]\u001b[A\n",
      "Validating:   0%|                                                                                                             | 0/5 [00:00<?, ?it/s]\u001b[A\n",
      "Epoch 17: 100%|████████████████████████████████████████████████████████████████████████████| 31/31 [00:01<00:00, 28.34it/s, loss=0.00809, v_num=366]\u001b[A\n",
      "Epoch 18:  84%|███████████████████████████████████████████████████████████████▋            | 26/31 [00:00<00:00, 34.94it/s, loss=0.00402, v_num=366]\u001b[A\n",
      "Validating: 0it [00:00, ?it/s]\u001b[A\n",
      "Validating:   0%|                                                                                                             | 0/5 [00:00<?, ?it/s]\u001b[A\n",
      "Epoch 18:  90%|████████████████████████████████████████████████████████████████████▋       | 28/31 [00:00<00:00, 28.76it/s, loss=0.00402, v_num=366]\u001b[A\n",
      "Epoch 18: 100%|████████████████████████████████████████████████████████████████████████████| 31/31 [00:01<00:00, 28.72it/s, loss=0.00402, v_num=366]\u001b[A\n",
      "Epoch 19:  84%|███████████████████████████████████████████████████████████████▋            | 26/31 [00:00<00:00, 35.02it/s, loss=0.00244, v_num=366]\u001b[A\n",
      "Validating: 0it [00:00, ?it/s]\u001b[A\n",
      "Validating:   0%|                                                                                                             | 0/5 [00:00<?, ?it/s]\u001b[A\n",
      "Epoch 19:  90%|████████████████████████████████████████████████████████████████████▋       | 28/31 [00:00<00:00, 28.26it/s, loss=0.00244, v_num=366]\u001b[A\n",
      "Epoch 19: 100%|████████████████████████████████████████████████████████████████████████████| 31/31 [00:01<00:00, 28.30it/s, loss=0.00244, v_num=366]\u001b[A\n",
      "Epoch 20:  84%|███████████████████████████████████████████████████████████████▋            | 26/31 [00:00<00:00, 33.18it/s, loss=0.00264, v_num=366]\u001b[A\n",
      "Validating: 0it [00:00, ?it/s]\u001b[A\n",
      "Validating:   0%|                                                                                                             | 0/5 [00:00<?, ?it/s]\u001b[A\n",
      "Epoch 20:  90%|████████████████████████████████████████████████████████████████████▋       | 28/31 [00:01<00:00, 26.41it/s, loss=0.00264, v_num=366]\u001b[A\n",
      "Epoch 20: 100%|████████████████████████████████████████████████████████████████████████████| 31/31 [00:01<00:00, 26.58it/s, loss=0.00264, v_num=366]\u001b[A\n",
      "Epoch 21:  84%|███████████████████████████████████████████████████████████████▋            | 26/31 [00:00<00:00, 32.61it/s, loss=0.00488, v_num=366]\u001b[A\n",
      "Validating: 0it [00:00, ?it/s]\u001b[A\n",
      "Validating:   0%|                                                                                                             | 0/5 [00:00<?, ?it/s]\u001b[A\n",
      "Epoch 21:  90%|████████████████████████████████████████████████████████████████████▋       | 28/31 [00:01<00:00, 27.09it/s, loss=0.00488, v_num=366]\u001b[A\n",
      "Epoch 21: 100%|████████████████████████████████████████████████████████████████████████████| 31/31 [00:01<00:00, 27.21it/s, loss=0.00488, v_num=366]\u001b[A\n",
      "Epoch 22:  84%|███████████████████████████████████████████████████████████████▋            | 26/31 [00:00<00:00, 33.06it/s, loss=0.00598, v_num=366]\u001b[A\n",
      "Validating: 0it [00:00, ?it/s]\u001b[A\n",
      "Validating:   0%|                                                                                                             | 0/5 [00:00<?, ?it/s]\u001b[A\n",
      "Epoch 22:  90%|████████████████████████████████████████████████████████████████████▋       | 28/31 [00:00<00:00, 28.07it/s, loss=0.00598, v_num=366]\u001b[A\n",
      "Epoch 22: 100%|████████████████████████████████████████████████████████████████████████████| 31/31 [00:01<00:00, 28.18it/s, loss=0.00598, v_num=366]\u001b[A\n",
      "Epoch 23:  84%|███████████████████████████████████████████████████████████████▋            | 26/31 [00:00<00:00, 37.12it/s, loss=0.00511, v_num=366]\u001b[A\n",
      "Validating: 0it [00:00, ?it/s]\u001b[A\n",
      "Validating:   0%|                                                                                                             | 0/5 [00:00<?, ?it/s]\u001b[A\n",
      "Epoch 23: 100%|████████████████████████████████████████████████████████████████████████████| 31/31 [00:00<00:00, 31.48it/s, loss=0.00511, v_num=366]\u001b[A\n",
      "Epoch 24:  84%|███████████████████████████████████████████████████████████████▋            | 26/31 [00:01<00:00, 20.77it/s, loss=0.00622, v_num=366]\u001b[A\n",
      "Validating: 0it [00:00, ?it/s]\u001b[A\n",
      "Validating:   0%|                                                                                                             | 0/5 [00:00<?, ?it/s]\u001b[A\n",
      "Epoch 24: 100%|████████████████████████████████████████████████████████████████████████████| 31/31 [00:01<00:00, 20.04it/s, loss=0.00622, v_num=366]\u001b[A\n",
      "Epoch 25:  84%|████████████████████████████████████████████████████████████████▌            | 26/31 [00:00<00:00, 31.28it/s, loss=0.0028, v_num=366]\u001b[A\n",
      "Validating: 0it [00:00, ?it/s]\u001b[A\n",
      "Validating:   0%|                                                                                                             | 0/5 [00:00<?, ?it/s]\u001b[A\n",
      "Epoch 25: 100%|█████████████████████████████████████████████████████████████████████████████| 31/31 [00:01<00:00, 24.43it/s, loss=0.0028, v_num=366]\u001b[A\n",
      "Epoch 26:  84%|███████████████████████████████████████████████████████████████▋            | 26/31 [00:00<00:00, 35.17it/s, loss=0.00285, v_num=366]\u001b[A\n",
      "Validating: 0it [00:00, ?it/s]\u001b[A\n",
      "Validating:   0%|                                                                                                             | 0/5 [00:00<?, ?it/s]\u001b[A\n",
      "Epoch 26:  90%|████████████████████████████████████████████████████████████████████▋       | 28/31 [00:00<00:00, 29.22it/s, loss=0.00285, v_num=366]\u001b[A\n",
      "Epoch 26: 100%|████████████████████████████████████████████████████████████████████████████| 31/31 [00:01<00:00, 29.13it/s, loss=0.00285, v_num=366]\u001b[A\n",
      "Epoch 27:  84%|███████████████████████████████████████████████████████████████▋            | 26/31 [00:00<00:00, 33.73it/s, loss=0.00434, v_num=366]\u001b[A\n",
      "Validating: 0it [00:00, ?it/s]\u001b[A\n",
      "Validating:   0%|                                                                                                             | 0/5 [00:00<?, ?it/s]\u001b[A\n",
      "Epoch 27: 100%|████████████████████████████████████████████████████████████████████████████| 31/31 [00:01<00:00, 28.05it/s, loss=0.00434, v_num=366]\u001b[A\n",
      "Epoch 28:  84%|███████████████████████████████████████████████████████████████▋            | 26/31 [00:00<00:00, 35.65it/s, loss=0.00463, v_num=366]\u001b[A\n",
      "Validating: 0it [00:00, ?it/s]\u001b[A\n",
      "Validating:   0%|                                                                                                             | 0/5 [00:00<?, ?it/s]\u001b[A\n",
      "Epoch 28: 100%|████████████████████████████████████████████████████████████████████████████| 31/31 [00:01<00:00, 29.60it/s, loss=0.00463, v_num=366]\u001b[A\n",
      "Epoch 29:  84%|███████████████████████████████████████████████████████████████▋            | 26/31 [00:00<00:00, 34.55it/s, loss=0.00153, v_num=366]\u001b[A\n",
      "Validating: 0it [00:00, ?it/s]\u001b[A\n",
      "Validating:   0%|                                                                                                             | 0/5 [00:00<?, ?it/s]\u001b[A\n"
     ]
    },
    {
     "name": "stdout",
     "output_type": "stream",
     "text": [
      "Epoch 29: 100%|████████████████████████████████████████████████████████████████████████████| 31/31 [00:01<00:00, 28.89it/s, loss=0.00153, v_num=366]\u001b[A\n",
      "Epoch 30:  84%|███████████████████████████████████████████████████████████████▋            | 26/31 [00:00<00:00, 34.72it/s, loss=0.00104, v_num=366]\u001b[A\n",
      "Validating: 0it [00:00, ?it/s]\u001b[A\n",
      "Validating:   0%|                                                                                                             | 0/5 [00:00<?, ?it/s]\u001b[A\n",
      "Epoch 30: 100%|████████████████████████████████████████████████████████████████████████████| 31/31 [00:01<00:00, 28.91it/s, loss=0.00104, v_num=366]\u001b[A\n",
      "Epoch 31:  84%|██████████████████████████████████████████████████████████████▉            | 26/31 [00:00<00:00, 35.72it/s, loss=0.000712, v_num=366]\u001b[A\n",
      "Validating: 0it [00:00, ?it/s]\u001b[A\n",
      "Validating:   0%|                                                                                                             | 0/5 [00:00<?, ?it/s]\u001b[A\n",
      "Epoch 31: 100%|███████████████████████████████████████████████████████████████████████████| 31/31 [00:01<00:00, 30.04it/s, loss=0.000712, v_num=366]\u001b[A\n",
      "Epoch 32:  84%|██████████████████████████████████████████████████████████████▉            | 26/31 [00:00<00:00, 35.67it/s, loss=0.000767, v_num=366]\u001b[A\n",
      "Validating: 0it [00:00, ?it/s]\u001b[A\n",
      "Validating:   0%|                                                                                                             | 0/5 [00:00<?, ?it/s]\u001b[A\n",
      "Epoch 32: 100%|███████████████████████████████████████████████████████████████████████████| 31/31 [00:01<00:00, 29.81it/s, loss=0.000767, v_num=366]\u001b[A\n",
      "Epoch 33:  84%|███████████████████████████████████████████████████████████████▋            | 26/31 [00:00<00:00, 37.06it/s, loss=0.00106, v_num=366]\u001b[A\n",
      "Validating: 0it [00:00, ?it/s]\u001b[A\n",
      "Validating:   0%|                                                                                                             | 0/5 [00:00<?, ?it/s]\u001b[A\n",
      "Epoch 33: 100%|████████████████████████████████████████████████████████████████████████████| 31/31 [00:00<00:00, 31.31it/s, loss=0.00106, v_num=366]\u001b[A\n",
      "Epoch 34:  84%|████████████████████████████████████████████████████████████████▌            | 26/31 [00:00<00:00, 39.44it/s, loss=0.0139, v_num=366]\u001b[A\n",
      "Validating: 0it [00:00, ?it/s]\u001b[A\n",
      "Validating:   0%|                                                                                                             | 0/5 [00:00<?, ?it/s]\u001b[A\n",
      "Epoch 34: 100%|█████████████████████████████████████████████████████████████████████████████| 31/31 [00:00<00:00, 32.87it/s, loss=0.0139, v_num=366]\u001b[A\n",
      "Epoch 35:  84%|████████████████████████████████████████████████████████████████▌            | 26/31 [00:00<00:00, 26.55it/s, loss=0.0188, v_num=366]\u001b[A\n",
      "Validating: 0it [00:00, ?it/s]\u001b[A\n",
      "Validating:   0%|                                                                                                             | 0/5 [00:00<?, ?it/s]\u001b[A\n",
      "Epoch 35: 100%|█████████████████████████████████████████████████████████████████████████████| 31/31 [00:01<00:00, 20.09it/s, loss=0.0188, v_num=366]\u001b[A\n",
      "Epoch 36:  84%|███████████████████████████████████████████████████████████████▋            | 26/31 [00:00<00:00, 37.20it/s, loss=0.00857, v_num=366]\u001b[A\n",
      "Validating: 0it [00:00, ?it/s]\u001b[A\n",
      "Validating:   0%|                                                                                                             | 0/5 [00:00<?, ?it/s]\u001b[A\n",
      "Epoch 36: 100%|████████████████████████████████████████████████████████████████████████████| 31/31 [00:01<00:00, 26.56it/s, loss=0.00857, v_num=366]\u001b[A\n",
      "Epoch 37:  84%|███████████████████████████████████████████████████████████████▋            | 26/31 [00:00<00:00, 31.91it/s, loss=0.00884, v_num=366]\u001b[A\n",
      "Validating: 0it [00:00, ?it/s]\u001b[A\n",
      "Validating:   0%|                                                                                                             | 0/5 [00:00<?, ?it/s]\u001b[A\n",
      "Epoch 37:  90%|████████████████████████████████████████████████████████████████████▋       | 28/31 [00:01<00:00, 25.92it/s, loss=0.00884, v_num=366]\u001b[A\n",
      "Epoch 37: 100%|████████████████████████████████████████████████████████████████████████████| 31/31 [00:01<00:00, 26.03it/s, loss=0.00884, v_num=366]\u001b[A\n",
      "Epoch 38:  84%|████████████████████████████████████████████████████████████████▌            | 26/31 [00:00<00:00, 32.07it/s, loss=0.0256, v_num=366]\u001b[A\n",
      "Validating: 0it [00:00, ?it/s]\u001b[A\n",
      "Validating:   0%|                                                                                                             | 0/5 [00:00<?, ?it/s]\u001b[A\n",
      "Epoch 38: 100%|█████████████████████████████████████████████████████████████████████████████| 31/31 [00:01<00:00, 28.19it/s, loss=0.0256, v_num=366]\u001b[A\n",
      "Epoch 39:  84%|████████████████████████████████████████████████████████████████▌            | 26/31 [00:00<00:00, 38.86it/s, loss=0.0153, v_num=366]\u001b[A\n",
      "Validating: 0it [00:00, ?it/s]\u001b[A\n",
      "Validating:   0%|                                                                                                             | 0/5 [00:00<?, ?it/s]\u001b[A\n",
      "Epoch 39:  90%|█████████████████████████████████████████████████████████████████████▌       | 28/31 [00:00<00:00, 31.90it/s, loss=0.0153, v_num=366]\u001b[A\n",
      "Epoch 39: 100%|█████████████████████████████████████████████████████████████████████████████| 31/31 [00:00<00:00, 31.62it/s, loss=0.0153, v_num=366]\u001b[A\n",
      "Epoch 40:  84%|████████████████████████████████████████████████████████████████▌            | 26/31 [00:00<00:00, 38.11it/s, loss=0.0162, v_num=366]\u001b[A\n",
      "Validating: 0it [00:00, ?it/s]\u001b[A\n",
      "Validating:   0%|                                                                                                             | 0/5 [00:00<?, ?it/s]\u001b[A\n",
      "Epoch 40: 100%|█████████████████████████████████████████████████████████████████████████████| 31/31 [00:00<00:00, 32.08it/s, loss=0.0162, v_num=366]\u001b[A\n",
      "Epoch 41:  84%|███████████████████████████████████████████████████████████████▋            | 26/31 [00:00<00:00, 33.21it/s, loss=0.00854, v_num=366]\u001b[A\n",
      "Validating: 0it [00:00, ?it/s]\u001b[A\n",
      "Validating:   0%|                                                                                                             | 0/5 [00:00<?, ?it/s]\u001b[A\n",
      "Epoch 41:  90%|████████████████████████████████████████████████████████████████████▋       | 28/31 [00:01<00:00, 18.80it/s, loss=0.00854, v_num=366]\u001b[A\n",
      "Epoch 41: 100%|████████████████████████████████████████████████████████████████████████████| 31/31 [00:01<00:00, 17.90it/s, loss=0.00854, v_num=366]\u001b[A\n",
      "Epoch 42:  84%|███████████████████████████████████████████████████████████████▋            | 26/31 [00:00<00:00, 32.18it/s, loss=0.00615, v_num=366]\u001b[A\n",
      "Validating: 0it [00:00, ?it/s]\u001b[A\n",
      "Validating:   0%|                                                                                                             | 0/5 [00:00<?, ?it/s]\u001b[A\n",
      "Epoch 42: 100%|████████████████████████████████████████████████████████████████████████████| 31/31 [00:01<00:00, 27.09it/s, loss=0.00615, v_num=366]\u001b[A\n",
      "Epoch 43:  84%|███████████████████████████████████████████████████████████████▋            | 26/31 [00:00<00:00, 29.24it/s, loss=0.00183, v_num=366]\u001b[A\n",
      "Validating: 0it [00:00, ?it/s]\u001b[A\n",
      "Validating:   0%|                                                                                                             | 0/5 [00:00<?, ?it/s]\u001b[A\n",
      "Epoch 43: 100%|████████████████████████████████████████████████████████████████████████████| 31/31 [00:01<00:00, 24.80it/s, loss=0.00183, v_num=366]\u001b[A\n",
      "Epoch 44:  84%|███████████████████████████████████████████████████████████████▋            | 26/31 [00:00<00:00, 35.04it/s, loss=0.00162, v_num=366]\u001b[A\n",
      "Validating: 0it [00:00, ?it/s]\u001b[A\n",
      "Validating:   0%|                                                                                                             | 0/5 [00:00<?, ?it/s]\u001b[A\n",
      "Epoch 44:  90%|████████████████████████████████████████████████████████████████████▋       | 28/31 [00:01<00:00, 27.86it/s, loss=0.00162, v_num=366]\u001b[A\n",
      "Epoch 44: 100%|████████████████████████████████████████████████████████████████████████████| 31/31 [00:01<00:00, 27.93it/s, loss=0.00162, v_num=366]\u001b[A\n",
      "Epoch 45:  84%|███████████████████████████████████████████████████████████████▋            | 26/31 [00:00<00:00, 32.73it/s, loss=0.00116, v_num=366]\u001b[A\n",
      "Validating: 0it [00:00, ?it/s]\u001b[A\n",
      "Validating:   0%|                                                                                                             | 0/5 [00:00<?, ?it/s]\u001b[A\n",
      "Epoch 45:  90%|████████████████████████████████████████████████████████████████████▋       | 28/31 [00:01<00:00, 25.39it/s, loss=0.00116, v_num=366]\u001b[A\n",
      "Epoch 45: 100%|████████████████████████████████████████████████████████████████████████████| 31/31 [00:01<00:00, 25.73it/s, loss=0.00116, v_num=366]\u001b[A\n",
      "Epoch 46:  84%|███████████████████████████████████████████████████████████████▋            | 26/31 [00:00<00:00, 33.45it/s, loss=0.00138, v_num=366]\u001b[A\n",
      "Validating: 0it [00:00, ?it/s]\u001b[A\n",
      "Validating:   0%|                                                                                                             | 0/5 [00:00<?, ?it/s]\u001b[A\n",
      "Epoch 46:  90%|████████████████████████████████████████████████████████████████████▋       | 28/31 [00:01<00:00, 27.23it/s, loss=0.00138, v_num=366]\u001b[A\n",
      "Epoch 46: 100%|████████████████████████████████████████████████████████████████████████████| 31/31 [00:01<00:00, 27.44it/s, loss=0.00138, v_num=366]\u001b[A\n",
      "Epoch 47:  84%|███████████████████████████████████████████████████████████████▋            | 26/31 [00:00<00:00, 32.25it/s, loss=0.00234, v_num=366]\u001b[A\n",
      "Validating: 0it [00:00, ?it/s]\u001b[A\n",
      "Validating:   0%|                                                                                                             | 0/5 [00:00<?, ?it/s]\u001b[A\n",
      "Epoch 47:  90%|████████████████████████████████████████████████████████████████████▋       | 28/31 [00:01<00:00, 26.61it/s, loss=0.00234, v_num=366]\u001b[A\n",
      "Epoch 47: 100%|████████████████████████████████████████████████████████████████████████████| 31/31 [00:01<00:00, 26.76it/s, loss=0.00234, v_num=366]\u001b[A\n",
      "Epoch 48:  84%|███████████████████████████████████████████████████████████████▋            | 26/31 [00:00<00:00, 32.18it/s, loss=0.00114, v_num=366]\u001b[A\n",
      "Validating: 0it [00:00, ?it/s]\u001b[A\n",
      "Validating:   0%|                                                                                                             | 0/5 [00:00<?, ?it/s]\u001b[A\n",
      "Epoch 48:  90%|████████████████████████████████████████████████████████████████████▋       | 28/31 [00:01<00:00, 27.39it/s, loss=0.00114, v_num=366]\u001b[A\n",
      "Epoch 48: 100%|████████████████████████████████████████████████████████████████████████████| 31/31 [00:01<00:00, 27.26it/s, loss=0.00114, v_num=366]\u001b[A\n",
      "Epoch 49:  84%|██████████████████████████████████████████████████████████████▉            | 26/31 [00:00<00:00, 34.42it/s, loss=0.000729, v_num=366]\u001b[A\n",
      "Validating: 0it [00:00, ?it/s]\u001b[A\n",
      "Validating:   0%|                                                                                                             | 0/5 [00:00<?, ?it/s]\u001b[A\n",
      "Epoch 49: 100%|███████████████████████████████████████████████████████████████████████████| 31/31 [00:01<00:00, 28.93it/s, loss=0.000729, v_num=366]\u001b[A\n",
      "Epoch 49: 100%|███████████████████████████████████████████████████████████████████████████| 31/31 [00:01<00:00, 28.45it/s, loss=0.000729, v_num=366]\u001b[A\n"
     ]
    }
   ],
   "source": [
    "classifer.fit(x_train, y_train, x_test, y_test, batch_size=64, max_epochs=50)"
   ]
  },
  {
   "cell_type": "code",
   "execution_count": 8,
   "id": "ed6d8652",
   "metadata": {},
   "outputs": [
    {
     "name": "stderr",
     "output_type": "stream",
     "text": [
      "GPU available: True, used: True\n",
      "TPU available: False, using: 0 TPU cores\n",
      "IPU available: False, using: 0 IPUs\n",
      "LOCAL_RANK: 0 - CUDA_VISIBLE_DEVICES: [0,1,2,3]\n"
     ]
    },
    {
     "name": "stdout",
     "output_type": "stream",
     "text": [
      "Predicting: 26it [00:00, ?it/s]\n"
     ]
    }
   ],
   "source": [
    "prediction_pre = classifer.predict(x_pred,batch_size=64)"
   ]
  },
  {
   "cell_type": "code",
   "execution_count": 9,
   "id": "880df9f3",
   "metadata": {},
   "outputs": [
    {
     "data": {
      "text/plain": [
       "0.8237454100367197"
      ]
     },
     "execution_count": 9,
     "metadata": {},
     "output_type": "execute_result"
    }
   ],
   "source": [
    "accuracy_score(y_pred,prediction_pre)"
   ]
  },
  {
   "cell_type": "markdown",
   "id": "06f93b30",
   "metadata": {},
   "source": [
    "# LSTM"
   ]
  },
  {
   "cell_type": "code",
   "execution_count": 10,
   "id": "a507db02",
   "metadata": {},
   "outputs": [],
   "source": [
    "classifer = init_model(model_name='LSTM')"
   ]
  },
  {
   "cell_type": "code",
   "execution_count": 11,
   "id": "5461bf26",
   "metadata": {},
   "outputs": [
    {
     "name": "stderr",
     "output_type": "stream",
     "text": [
      "GPU available: True, used: True\n",
      "TPU available: False, using: 0 TPU cores\n",
      "IPU available: False, using: 0 IPUs\n",
      "LOCAL_RANK: 0 - CUDA_VISIBLE_DEVICES: [0,1,2,3]\n",
      "\n",
      "  | Name    | Type    | Params\n",
      "------------------------------------\n",
      "0 | LSTM_1  | LSTM    | 1.4 M \n",
      "1 | LSTM_2  | LSTM    | 3.8 M \n",
      "2 | LSTM_3  | LSTM    | 3.8 M \n",
      "3 | fc      | Linear  | 2.4 K \n",
      "4 | dropout | Dropout | 0     \n",
      "5 | sigmoid | Sigmoid | 0     \n",
      "6 | softmax | Softmax | 0     \n",
      "------------------------------------\n",
      "9.1 M     Trainable params\n",
      "0         Non-trainable params\n",
      "9.1 M     Total params\n",
      "36.208    Total estimated model params size (MB)\n"
     ]
    },
    {
     "name": "stdout",
     "output_type": "stream",
     "text": [
      "Validation sanity check:   0%|                                                                                                | 0/2 [00:00<?, ?it/s]"
     ]
    },
    {
     "name": "stderr",
     "output_type": "stream",
     "text": [
      "/home/aorus-users/miniconda3/envs/env_zhengyang/lib/python3.9/site-packages/pytorch_lightning/trainer/data_loading.py:453: UserWarning: Your `val_dataloader` has `shuffle=True`,it is strongly recommended that you turn this off for val/test/predict dataloaders.\n",
      "  rank_zero_warn(\n"
     ]
    },
    {
     "name": "stdout",
     "output_type": "stream",
     "text": [
      "                                                                                                                                                    "
     ]
    },
    {
     "name": "stderr",
     "output_type": "stream",
     "text": [
      "/mnt/Data/Zhengyang/InceptionTime/classifiers/LSTM.py:58: UserWarning: Implicit dimension choice for softmax has been deprecated. Change the call to include dim=X as an argument.\n",
      "  x = self.softmax(x)\n",
      "/home/aorus-users/miniconda3/envs/env_zhengyang/lib/python3.9/site-packages/pytorch_lightning/trainer/data_loading.py:407: UserWarning: The number of training samples (26) is smaller than the logging interval Trainer(log_every_n_steps=50). Set a lower value for log_every_n_steps if you want to see logs for the training epoch.\n",
      "  rank_zero_warn(\n"
     ]
    },
    {
     "name": "stdout",
     "output_type": "stream",
     "text": [
      "Epoch 0:  87%|███████████████████████████████████████████████████████████████████▉          | 27/31 [00:02<00:00, 10.39it/s, loss=0.0635, v_num=367]\n",
      "Validating: 0it [00:00, ?it/s]\u001b[A\n",
      "Validating:   0%|                                                                                                             | 0/5 [00:00<?, ?it/s]\u001b[A\n",
      "Epoch 0:  94%|████████████████████████████████████████████████████████████████████████▉     | 29/31 [00:02<00:00,  9.90it/s, loss=0.0635, v_num=367]\u001b[A\n",
      "Epoch 0: 100%|██████████████████████████████████████████████████████████████████████████████| 31/31 [00:03<00:00, 10.08it/s, loss=0.0635, v_num=367]\u001b[A\n",
      "Epoch 1:  84%|█████████████████████████████████████████████████████████████████▍            | 26/31 [00:02<00:00, 10.02it/s, loss=0.0129, v_num=367]\u001b[A\n",
      "Validating: 0it [00:00, ?it/s]\u001b[A\n",
      "Validating:   0%|                                                                                                             | 0/5 [00:00<?, ?it/s]\u001b[A\n",
      "Epoch 1:  90%|██████████████████████████████████████████████████████████████████████▍       | 28/31 [00:02<00:00,  9.89it/s, loss=0.0129, v_num=367]\u001b[A\n",
      "Epoch 1: 100%|██████████████████████████████████████████████████████████████████████████████| 31/31 [00:02<00:00, 10.35it/s, loss=0.0129, v_num=367]\u001b[A\n",
      "Epoch 2:  84%|████████████████████████████████████████████████████████████████▌            | 26/31 [00:02<00:00, 10.22it/s, loss=0.00819, v_num=367]\u001b[A\n",
      "Validating: 0it [00:00, ?it/s]\u001b[A\n",
      "Validating:   0%|                                                                                                             | 0/5 [00:00<?, ?it/s]\u001b[A\n",
      "Epoch 2:  90%|█████████████████████████████████████████████████████████████████████▌       | 28/31 [00:02<00:00, 10.16it/s, loss=0.00819, v_num=367]\u001b[A\n",
      "Epoch 2: 100%|█████████████████████████████████████████████████████████████████████████████| 31/31 [00:02<00:00, 10.63it/s, loss=0.00819, v_num=367]\u001b[A\n",
      "Epoch 3:  84%|█████████████████████████████████████████████████████████████████▍            | 26/31 [00:02<00:00, 10.24it/s, loss=0.0242, v_num=367]\u001b[A\n",
      "Validating: 0it [00:00, ?it/s]\u001b[A\n",
      "Validating:   0%|                                                                                                             | 0/5 [00:00<?, ?it/s]\u001b[A\n",
      "Epoch 3:  90%|██████████████████████████████████████████████████████████████████████▍       | 28/31 [00:02<00:00, 10.28it/s, loss=0.0242, v_num=367]\u001b[A\n",
      "Epoch 3: 100%|██████████████████████████████████████████████████████████████████████████████| 31/31 [00:02<00:00, 10.80it/s, loss=0.0242, v_num=367]\u001b[A\n",
      "Epoch 4:  84%|████████████████████████████████████████████████████████████████▌            | 26/31 [00:02<00:00, 10.00it/s, loss=0.00886, v_num=367]\u001b[A\n",
      "Validating: 0it [00:00, ?it/s]\u001b[A\n",
      "Validating:   0%|                                                                                                             | 0/5 [00:00<?, ?it/s]\u001b[A\n",
      "Epoch 4:  90%|█████████████████████████████████████████████████████████████████████▌       | 28/31 [00:02<00:00,  9.77it/s, loss=0.00886, v_num=367]\u001b[A\n",
      "Epoch 4: 100%|█████████████████████████████████████████████████████████████████████████████| 31/31 [00:03<00:00, 10.21it/s, loss=0.00886, v_num=367]\u001b[A\n",
      "Epoch 5:  84%|███████████████████████████████████████████████████████████████▋            | 26/31 [00:02<00:00,  9.97it/s, loss=0.000907, v_num=367]\u001b[A\n",
      "Validating: 0it [00:00, ?it/s]\u001b[A\n",
      "Validating:   0%|                                                                                                             | 0/5 [00:00<?, ?it/s]\u001b[A\n",
      "Epoch 5:  90%|████████████████████████████████████████████████████████████████████▋       | 28/31 [00:02<00:00,  9.95it/s, loss=0.000907, v_num=367]\u001b[A\n",
      "Epoch 5: 100%|████████████████████████████████████████████████████████████████████████████| 31/31 [00:02<00:00, 10.46it/s, loss=0.000907, v_num=367]\u001b[A\n",
      "Epoch 6:  84%|███████████████████████████████████████████████████████████████▋            | 26/31 [00:02<00:00,  9.70it/s, loss=0.000144, v_num=367]\u001b[A\n",
      "Validating: 0it [00:00, ?it/s]\u001b[A\n",
      "Validating:   0%|                                                                                                             | 0/5 [00:00<?, ?it/s]\u001b[A\n",
      "Epoch 6:  90%|████████████████████████████████████████████████████████████████████▋       | 28/31 [00:03<00:00,  9.02it/s, loss=0.000144, v_num=367]\u001b[A\n",
      "Epoch 6: 100%|████████████████████████████████████████████████████████████████████████████| 31/31 [00:03<00:00,  9.35it/s, loss=0.000144, v_num=367]\u001b[A\n",
      "Epoch 7:  84%|███████████████████████████████████████████████████████████████▋            | 26/31 [00:02<00:00, 10.20it/s, loss=8.11e-05, v_num=367]\u001b[A\n",
      "Validating: 0it [00:00, ?it/s]\u001b[A\n",
      "Validating:   0%|                                                                                                             | 0/5 [00:00<?, ?it/s]\u001b[A\n",
      "Epoch 7:  90%|████████████████████████████████████████████████████████████████████▋       | 28/31 [00:02<00:00, 10.07it/s, loss=8.11e-05, v_num=367]\u001b[A\n",
      "Epoch 7: 100%|████████████████████████████████████████████████████████████████████████████| 31/31 [00:02<00:00, 10.56it/s, loss=8.11e-05, v_num=367]\u001b[A\n",
      "Epoch 8:  84%|███████████████████████████████████████████████████████████████▋            | 26/31 [00:02<00:00, 10.18it/s, loss=4.88e-05, v_num=367]\u001b[A\n",
      "Validating: 0it [00:00, ?it/s]\u001b[A\n",
      "Validating:   0%|                                                                                                             | 0/5 [00:00<?, ?it/s]\u001b[A\n",
      "Epoch 8:  90%|████████████████████████████████████████████████████████████████████▋       | 28/31 [00:02<00:00, 10.07it/s, loss=4.88e-05, v_num=367]\u001b[A\n",
      "Epoch 8: 100%|████████████████████████████████████████████████████████████████████████████| 31/31 [00:02<00:00, 10.58it/s, loss=4.88e-05, v_num=367]\u001b[A\n",
      "Epoch 9:  84%|████████████████████████████████████████████████████████████████▌            | 26/31 [00:02<00:00,  9.95it/s, loss=4.5e-05, v_num=367]\u001b[A\n",
      "Validating: 0it [00:00, ?it/s]\u001b[A\n",
      "Validating:   0%|                                                                                                             | 0/5 [00:00<?, ?it/s]\u001b[A\n",
      "Epoch 9:  90%|█████████████████████████████████████████████████████████████████████▌       | 28/31 [00:02<00:00,  9.95it/s, loss=4.5e-05, v_num=367]\u001b[A\n",
      "Epoch 9: 100%|█████████████████████████████████████████████████████████████████████████████| 31/31 [00:02<00:00, 10.44it/s, loss=4.5e-05, v_num=367]\u001b[A\n",
      "Epoch 10:  84%|██████████████████████████████████████████████████████████████▉            | 26/31 [00:02<00:00,  9.77it/s, loss=3.86e-05, v_num=367]\u001b[A\n",
      "Validating: 0it [00:00, ?it/s]\u001b[A\n",
      "Validating:   0%|                                                                                                             | 0/5 [00:00<?, ?it/s]\u001b[A\n",
      "Epoch 10:  90%|███████████████████████████████████████████████████████████████████▋       | 28/31 [00:02<00:00,  9.50it/s, loss=3.86e-05, v_num=367]\u001b[A\n",
      "Epoch 10: 100%|███████████████████████████████████████████████████████████████████████████| 31/31 [00:03<00:00,  9.95it/s, loss=3.86e-05, v_num=367]\u001b[A\n",
      "Epoch 11:  84%|██████████████████████████████████████████████████████████████▉            | 26/31 [00:02<00:00, 10.00it/s, loss=2.93e-05, v_num=367]\u001b[A\n",
      "Validating: 0it [00:00, ?it/s]\u001b[A\n",
      "Validating:   0%|                                                                                                             | 0/5 [00:00<?, ?it/s]\u001b[A\n",
      "Epoch 11:  90%|███████████████████████████████████████████████████████████████████▋       | 28/31 [00:02<00:00,  9.87it/s, loss=2.93e-05, v_num=367]\u001b[A\n",
      "Epoch 11: 100%|███████████████████████████████████████████████████████████████████████████| 31/31 [00:03<00:00, 10.31it/s, loss=2.93e-05, v_num=367]\u001b[A\n",
      "Epoch 12:  84%|██████████████████████████████████████████████████████████████▉            | 26/31 [00:02<00:00,  9.75it/s, loss=2.67e-05, v_num=367]\u001b[A\n",
      "Validating: 0it [00:00, ?it/s]\u001b[A\n",
      "Validating:   0%|                                                                                                             | 0/5 [00:00<?, ?it/s]\u001b[A\n",
      "Epoch 12:  90%|███████████████████████████████████████████████████████████████████▋       | 28/31 [00:02<00:00,  9.62it/s, loss=2.67e-05, v_num=367]\u001b[A\n",
      "Epoch 12: 100%|███████████████████████████████████████████████████████████████████████████| 31/31 [00:03<00:00, 10.09it/s, loss=2.67e-05, v_num=367]\u001b[A\n",
      "Epoch 13:  84%|██████████████████████████████████████████████████████████████▉            | 26/31 [00:02<00:00, 10.10it/s, loss=2.13e-05, v_num=367]\u001b[A\n",
      "Validating: 0it [00:00, ?it/s]\u001b[A\n",
      "Validating:   0%|                                                                                                             | 0/5 [00:00<?, ?it/s]\u001b[A\n",
      "Epoch 13:  90%|███████████████████████████████████████████████████████████████████▋       | 28/31 [00:02<00:00, 10.08it/s, loss=2.13e-05, v_num=367]\u001b[A\n",
      "Epoch 13: 100%|███████████████████████████████████████████████████████████████████████████| 31/31 [00:02<00:00, 10.60it/s, loss=2.13e-05, v_num=367]\u001b[A\n",
      "Epoch 14:  84%|██████████████████████████████████████████████████████████████▉            | 26/31 [00:02<00:00,  9.21it/s, loss=1.78e-05, v_num=367]\u001b[A\n",
      "Validating: 0it [00:00, ?it/s]\u001b[A\n",
      "Validating:   0%|                                                                                                             | 0/5 [00:00<?, ?it/s]\u001b[A\n",
      "Epoch 14:  90%|███████████████████████████████████████████████████████████████████▋       | 28/31 [00:03<00:00,  9.20it/s, loss=1.78e-05, v_num=367]\u001b[A\n",
      "Epoch 14: 100%|███████████████████████████████████████████████████████████████████████████| 31/31 [00:03<00:00,  9.71it/s, loss=1.78e-05, v_num=367]\u001b[A\n",
      "Epoch 15:  84%|███████████████████████████████████████████████████████████████▋            | 26/31 [00:02<00:00,  9.81it/s, loss=1.8e-05, v_num=367]\u001b[A\n",
      "Validating: 0it [00:00, ?it/s]\u001b[A\n",
      "Validating:   0%|                                                                                                             | 0/5 [00:00<?, ?it/s]\u001b[A\n",
      "Epoch 15:  90%|████████████████████████████████████████████████████████████████████▋       | 28/31 [00:02<00:00,  9.78it/s, loss=1.8e-05, v_num=367]\u001b[A\n",
      "Epoch 15: 100%|████████████████████████████████████████████████████████████████████████████| 31/31 [00:03<00:00, 10.31it/s, loss=1.8e-05, v_num=367]\u001b[A\n",
      "Epoch 16:  84%|██████████████████████████████████████████████████████████████▉            | 26/31 [00:02<00:00,  9.81it/s, loss=1.36e-05, v_num=367]\u001b[A\n",
      "Validating: 0it [00:00, ?it/s]\u001b[A\n",
      "Validating:   0%|                                                                                                             | 0/5 [00:00<?, ?it/s]\u001b[A\n",
      "Epoch 16:  90%|███████████████████████████████████████████████████████████████████▋       | 28/31 [00:03<00:00,  9.19it/s, loss=1.36e-05, v_num=367]\u001b[A\n",
      "Epoch 16: 100%|███████████████████████████████████████████████████████████████████████████| 31/31 [00:03<00:00,  8.92it/s, loss=1.36e-05, v_num=367]\u001b[A\n",
      "Epoch 17:  87%|█████████████████████████████████████████████████████████████████▎         | 27/31 [00:02<00:00, 10.54it/s, loss=1.39e-05, v_num=367]\u001b[A\n",
      "Validating: 0it [00:00, ?it/s]\u001b[A\n",
      "Validating:   0%|                                                                                                             | 0/5 [00:00<?, ?it/s]\u001b[A\n",
      "Epoch 17:  97%|████████████████████████████████████████████████████████████████████████▌  | 30/31 [00:02<00:00, 10.59it/s, loss=1.39e-05, v_num=367]\u001b[A\n",
      "Epoch 17: 100%|███████████████████████████████████████████████████████████████████████████| 31/31 [00:02<00:00, 10.49it/s, loss=1.39e-05, v_num=367]\u001b[A\n",
      "Epoch 18:  87%|█████████████████████████████████████████████████████████████████▎         | 27/31 [00:02<00:00, 10.36it/s, loss=1.71e-05, v_num=367]\u001b[A\n",
      "Validating: 0it [00:00, ?it/s]\u001b[A\n",
      "Validating:   0%|                                                                                                             | 0/5 [00:00<?, ?it/s]\u001b[A\n",
      "Epoch 18:  97%|████████████████████████████████████████████████████████████████████████▌  | 30/31 [00:02<00:00, 10.28it/s, loss=1.71e-05, v_num=367]\u001b[A\n",
      "Epoch 18: 100%|███████████████████████████████████████████████████████████████████████████| 31/31 [00:03<00:00, 10.16it/s, loss=1.71e-05, v_num=367]\u001b[A\n",
      "Epoch 19:  87%|█████████████████████████████████████████████████████████████████▎         | 27/31 [00:02<00:00, 10.50it/s, loss=1.05e-05, v_num=367]\u001b[A\n",
      "Validating: 0it [00:00, ?it/s]\u001b[A\n",
      "Validating:   0%|                                                                                                             | 0/5 [00:00<?, ?it/s]\u001b[A\n",
      "Epoch 19:  97%|████████████████████████████████████████████████████████████████████████▌  | 30/31 [00:02<00:00, 10.69it/s, loss=1.05e-05, v_num=367]\u001b[A\n",
      "Epoch 19: 100%|███████████████████████████████████████████████████████████████████████████| 31/31 [00:02<00:00, 10.60it/s, loss=1.05e-05, v_num=367]\u001b[A\n",
      "Epoch 20:  87%|█████████████████████████████████████████████████████████████████▎         | 27/31 [00:02<00:00,  9.76it/s, loss=1.02e-05, v_num=367]\u001b[A\n",
      "Validating: 0it [00:00, ?it/s]\u001b[A\n",
      "Validating:   0%|                                                                                                             | 0/5 [00:00<?, ?it/s]\u001b[A\n",
      "Epoch 20:  97%|████████████████████████████████████████████████████████████████████████▌  | 30/31 [00:03<00:00,  9.60it/s, loss=1.02e-05, v_num=367]\u001b[A\n",
      "Epoch 20: 100%|███████████████████████████████████████████████████████████████████████████| 31/31 [00:03<00:00,  9.55it/s, loss=1.02e-05, v_num=367]\u001b[A\n",
      "Epoch 21:  87%|█████████████████████████████████████████████████████████████████▎         | 27/31 [00:02<00:00,  9.73it/s, loss=1.01e-05, v_num=367]\u001b[A\n",
      "Validating: 0it [00:00, ?it/s]\u001b[A\n",
      "Validating:   0%|                                                                                                             | 0/5 [00:00<?, ?it/s]\u001b[A\n",
      "Epoch 21:  97%|████████████████████████████████████████████████████████████████████████▌  | 30/31 [00:03<00:00,  9.83it/s, loss=1.01e-05, v_num=367]\u001b[A\n",
      "Epoch 21: 100%|███████████████████████████████████████████████████████████████████████████| 31/31 [00:03<00:00,  9.74it/s, loss=1.01e-05, v_num=367]\u001b[A\n",
      "Epoch 22:  87%|█████████████████████████████████████████████████████████████████▎         | 27/31 [00:02<00:00, 10.22it/s, loss=8.46e-06, v_num=367]\u001b[A\n",
      "Validating: 0it [00:00, ?it/s]\u001b[A\n",
      "Validating:   0%|                                                                                                             | 0/5 [00:00<?, ?it/s]\u001b[A\n",
      "Epoch 22:  97%|████████████████████████████████████████████████████████████████████████▌  | 30/31 [00:02<00:00, 10.36it/s, loss=8.46e-06, v_num=367]\u001b[A\n",
      "Epoch 22: 100%|███████████████████████████████████████████████████████████████████████████| 31/31 [00:03<00:00, 10.29it/s, loss=8.46e-06, v_num=367]\u001b[A\n",
      "Epoch 23:  87%|██████████████████████████████████████████████████████████████████▏         | 27/31 [00:02<00:00, 10.38it/s, loss=7.5e-06, v_num=367]\u001b[A\n",
      "Validating: 0it [00:00, ?it/s]\u001b[A\n",
      "Validating:   0%|                                                                                                             | 0/5 [00:00<?, ?it/s]\u001b[A\n",
      "Epoch 23:  97%|█████████████████████████████████████████████████████████████████████████▌  | 30/31 [00:02<00:00, 10.64it/s, loss=7.5e-06, v_num=367]\u001b[A\n",
      "Epoch 23: 100%|████████████████████████████████████████████████████████████████████████████| 31/31 [00:02<00:00, 10.54it/s, loss=7.5e-06, v_num=367]\u001b[A\n",
      "Epoch 24:  87%|█████████████████████████████████████████████████████████████████▎         | 27/31 [00:02<00:00, 10.18it/s, loss=8.68e-06, v_num=367]\u001b[A\n",
      "Validating: 0it [00:00, ?it/s]\u001b[A\n",
      "Validating:   0%|                                                                                                             | 0/5 [00:00<?, ?it/s]\u001b[A\n",
      "Epoch 24:  97%|████████████████████████████████████████████████████████████████████████▌  | 30/31 [00:02<00:00, 10.12it/s, loss=8.68e-06, v_num=367]\u001b[A\n",
      "Epoch 24: 100%|███████████████████████████████████████████████████████████████████████████| 31/31 [00:03<00:00,  9.98it/s, loss=8.68e-06, v_num=367]\u001b[A\n",
      "Epoch 25:  87%|█████████████████████████████████████████████████████████████████▎         | 27/31 [00:02<00:00, 10.37it/s, loss=6.21e-06, v_num=367]\u001b[A\n",
      "Validating: 0it [00:00, ?it/s]\u001b[A\n"
     ]
    },
    {
     "name": "stdout",
     "output_type": "stream",
     "text": [
      "Validating:   0%|                                                                                                             | 0/5 [00:00<?, ?it/s]\u001b[A\n",
      "Epoch 25:  97%|████████████████████████████████████████████████████████████████████████▌  | 30/31 [00:02<00:00, 10.63it/s, loss=6.21e-06, v_num=367]\u001b[A\n",
      "Epoch 25: 100%|███████████████████████████████████████████████████████████████████████████| 31/31 [00:02<00:00, 10.53it/s, loss=6.21e-06, v_num=367]\u001b[A\n",
      "Epoch 26:  87%|█████████████████████████████████████████████████████████████████▎         | 27/31 [00:02<00:00, 10.47it/s, loss=7.76e-06, v_num=367]\u001b[A\n",
      "Validating: 0it [00:00, ?it/s]\u001b[A\n",
      "Validating:   0%|                                                                                                             | 0/5 [00:00<?, ?it/s]\u001b[A\n",
      "Epoch 26:  97%|████████████████████████████████████████████████████████████████████████▌  | 30/31 [00:02<00:00, 10.77it/s, loss=7.76e-06, v_num=367]\u001b[A\n",
      "Epoch 26: 100%|███████████████████████████████████████████████████████████████████████████| 31/31 [00:02<00:00, 10.69it/s, loss=7.76e-06, v_num=367]\u001b[A\n",
      "Epoch 27:  87%|█████████████████████████████████████████████████████████████████▎         | 27/31 [00:02<00:00, 10.54it/s, loss=5.03e-06, v_num=367]\u001b[A\n",
      "Validating: 0it [00:00, ?it/s]\u001b[A\n",
      "Validating:   0%|                                                                                                             | 0/5 [00:00<?, ?it/s]\u001b[A\n",
      "Epoch 27:  97%|████████████████████████████████████████████████████████████████████████▌  | 30/31 [00:02<00:00, 10.73it/s, loss=5.03e-06, v_num=367]\u001b[A\n",
      "Epoch 27: 100%|███████████████████████████████████████████████████████████████████████████| 31/31 [00:02<00:00, 10.65it/s, loss=5.03e-06, v_num=367]\u001b[A\n",
      "Epoch 28:  87%|█████████████████████████████████████████████████████████████████▎         | 27/31 [00:02<00:00, 10.32it/s, loss=5.12e-06, v_num=367]\u001b[A\n",
      "Validating: 0it [00:00, ?it/s]\u001b[A\n",
      "Validating:   0%|                                                                                                             | 0/5 [00:00<?, ?it/s]\u001b[A\n",
      "Epoch 28:  97%|████████████████████████████████████████████████████████████████████████▌  | 30/31 [00:02<00:00, 10.68it/s, loss=5.12e-06, v_num=367]\u001b[A\n",
      "Epoch 28: 100%|███████████████████████████████████████████████████████████████████████████| 31/31 [00:02<00:00, 10.59it/s, loss=5.12e-06, v_num=367]\u001b[A\n",
      "Epoch 29:  87%|█████████████████████████████████████████████████████████████████▎         | 27/31 [00:02<00:00, 10.56it/s, loss=6.33e-06, v_num=367]\u001b[A\n",
      "Validating: 0it [00:00, ?it/s]\u001b[A\n",
      "Validating:   0%|                                                                                                             | 0/5 [00:00<?, ?it/s]\u001b[A\n",
      "Epoch 29:  97%|████████████████████████████████████████████████████████████████████████▌  | 30/31 [00:02<00:00, 10.85it/s, loss=6.33e-06, v_num=367]\u001b[A\n",
      "Epoch 29: 100%|███████████████████████████████████████████████████████████████████████████| 31/31 [00:02<00:00, 10.77it/s, loss=6.33e-06, v_num=367]\u001b[A\n",
      "Epoch 30:  87%|█████████████████████████████████████████████████████████████████▎         | 27/31 [00:02<00:00, 10.56it/s, loss=5.38e-06, v_num=367]\u001b[A\n",
      "Validating: 0it [00:00, ?it/s]\u001b[A\n",
      "Validating:   0%|                                                                                                             | 0/5 [00:00<?, ?it/s]\u001b[A\n",
      "Epoch 30:  97%|████████████████████████████████████████████████████████████████████████▌  | 30/31 [00:02<00:00, 10.93it/s, loss=5.38e-06, v_num=367]\u001b[A\n",
      "Epoch 30: 100%|███████████████████████████████████████████████████████████████████████████| 31/31 [00:02<00:00, 10.85it/s, loss=5.38e-06, v_num=367]\u001b[A\n",
      "Epoch 31:  87%|█████████████████████████████████████████████████████████████████▎         | 27/31 [00:02<00:00, 10.58it/s, loss=6.24e-06, v_num=367]\u001b[A\n",
      "Validating: 0it [00:00, ?it/s]\u001b[A\n",
      "Validating:   0%|                                                                                                             | 0/5 [00:00<?, ?it/s]\u001b[A\n",
      "Epoch 31:  97%|████████████████████████████████████████████████████████████████████████▌  | 30/31 [00:02<00:00, 10.86it/s, loss=6.24e-06, v_num=367]\u001b[A\n",
      "Epoch 31: 100%|███████████████████████████████████████████████████████████████████████████| 31/31 [00:02<00:00, 10.79it/s, loss=6.24e-06, v_num=367]\u001b[A\n",
      "Epoch 32:  87%|█████████████████████████████████████████████████████████████████▎         | 27/31 [00:02<00:00, 10.46it/s, loss=4.73e-06, v_num=367]\u001b[A\n",
      "Validating: 0it [00:00, ?it/s]\u001b[A\n",
      "Validating:   0%|                                                                                                             | 0/5 [00:00<?, ?it/s]\u001b[A\n",
      "Epoch 32:  97%|████████████████████████████████████████████████████████████████████████▌  | 30/31 [00:02<00:00, 10.78it/s, loss=4.73e-06, v_num=367]\u001b[A\n",
      "Epoch 32: 100%|███████████████████████████████████████████████████████████████████████████| 31/31 [00:02<00:00, 10.64it/s, loss=4.73e-06, v_num=367]\u001b[A\n",
      "Epoch 33:  87%|█████████████████████████████████████████████████████████████████▎         | 27/31 [00:02<00:00, 10.49it/s, loss=5.51e-06, v_num=367]\u001b[A\n",
      "Validating: 0it [00:00, ?it/s]\u001b[A\n",
      "Validating:   0%|                                                                                                             | 0/5 [00:00<?, ?it/s]\u001b[A\n",
      "Epoch 33:  97%|████████████████████████████████████████████████████████████████████████▌  | 30/31 [00:02<00:00, 10.76it/s, loss=5.51e-06, v_num=367]\u001b[A\n",
      "Epoch 33: 100%|███████████████████████████████████████████████████████████████████████████| 31/31 [00:02<00:00, 10.68it/s, loss=5.51e-06, v_num=367]\u001b[A\n",
      "Epoch 34:  87%|█████████████████████████████████████████████████████████████████▎         | 27/31 [00:02<00:00, 10.37it/s, loss=4.37e-06, v_num=367]\u001b[A\n",
      "Validating: 0it [00:00, ?it/s]\u001b[A\n",
      "Validating:   0%|                                                                                                             | 0/5 [00:00<?, ?it/s]\u001b[A\n",
      "Epoch 34:  97%|████████████████████████████████████████████████████████████████████████▌  | 30/31 [00:02<00:00, 10.67it/s, loss=4.37e-06, v_num=367]\u001b[A\n",
      "Epoch 34: 100%|███████████████████████████████████████████████████████████████████████████| 31/31 [00:02<00:00, 10.60it/s, loss=4.37e-06, v_num=367]\u001b[A\n",
      "Epoch 35:  87%|█████████████████████████████████████████████████████████████████▎         | 27/31 [00:02<00:00, 10.47it/s, loss=3.53e-06, v_num=367]\u001b[A\n",
      "Validating: 0it [00:00, ?it/s]\u001b[A\n",
      "Validating:   0%|                                                                                                             | 0/5 [00:00<?, ?it/s]\u001b[A\n",
      "Epoch 35:  97%|████████████████████████████████████████████████████████████████████████▌  | 30/31 [00:02<00:00, 10.82it/s, loss=3.53e-06, v_num=367]\u001b[A\n",
      "Epoch 35: 100%|███████████████████████████████████████████████████████████████████████████| 31/31 [00:02<00:00, 10.73it/s, loss=3.53e-06, v_num=367]\u001b[A\n",
      "Epoch 36:  87%|██████████████████████████████████████████████████████████████████▏         | 27/31 [00:02<00:00, 10.40it/s, loss=2.7e-06, v_num=367]\u001b[A\n",
      "Validating: 0it [00:00, ?it/s]\u001b[A\n",
      "Validating:   0%|                                                                                                             | 0/5 [00:00<?, ?it/s]\u001b[A\n",
      "Epoch 36:  97%|█████████████████████████████████████████████████████████████████████████▌  | 30/31 [00:02<00:00, 10.73it/s, loss=2.7e-06, v_num=367]\u001b[A\n",
      "Epoch 36: 100%|████████████████████████████████████████████████████████████████████████████| 31/31 [00:02<00:00, 10.63it/s, loss=2.7e-06, v_num=367]\u001b[A\n",
      "Epoch 37:  87%|██████████████████████████████████████████████████████████████████▏         | 27/31 [00:02<00:00, 10.53it/s, loss=2.9e-06, v_num=367]\u001b[A\n",
      "Validating: 0it [00:00, ?it/s]\u001b[A\n",
      "Validating:   0%|                                                                                                             | 0/5 [00:00<?, ?it/s]\u001b[A\n",
      "Epoch 37:  97%|█████████████████████████████████████████████████████████████████████████▌  | 30/31 [00:02<00:00, 10.80it/s, loss=2.9e-06, v_num=367]\u001b[A\n",
      "Epoch 37: 100%|████████████████████████████████████████████████████████████████████████████| 31/31 [00:02<00:00, 10.72it/s, loss=2.9e-06, v_num=367]\u001b[A\n",
      "Epoch 38:  87%|█████████████████████████████████████████████████████████████████▎         | 27/31 [00:02<00:00, 10.51it/s, loss=2.92e-06, v_num=367]\u001b[A\n",
      "Validating: 0it [00:00, ?it/s]\u001b[A\n",
      "Validating:   0%|                                                                                                             | 0/5 [00:00<?, ?it/s]\u001b[A\n",
      "Epoch 38:  97%|████████████████████████████████████████████████████████████████████████▌  | 30/31 [00:02<00:00, 10.77it/s, loss=2.92e-06, v_num=367]\u001b[A\n",
      "Epoch 38: 100%|███████████████████████████████████████████████████████████████████████████| 31/31 [00:02<00:00, 10.71it/s, loss=2.92e-06, v_num=367]\u001b[A\n",
      "Epoch 39:  87%|█████████████████████████████████████████████████████████████████▎         | 27/31 [00:02<00:00, 10.54it/s, loss=2.45e-06, v_num=367]\u001b[A\n",
      "Validating: 0it [00:00, ?it/s]\u001b[A\n",
      "Validating:   0%|                                                                                                             | 0/5 [00:00<?, ?it/s]\u001b[A\n",
      "Epoch 39:  97%|████████████████████████████████████████████████████████████████████████▌  | 30/31 [00:02<00:00, 10.81it/s, loss=2.45e-06, v_num=367]\u001b[A\n",
      "Epoch 39: 100%|███████████████████████████████████████████████████████████████████████████| 31/31 [00:02<00:00, 10.73it/s, loss=2.45e-06, v_num=367]\u001b[A\n",
      "Epoch 40:  87%|█████████████████████████████████████████████████████████████████▎         | 27/31 [00:02<00:00, 10.37it/s, loss=3.69e-06, v_num=367]\u001b[A\n",
      "Validating: 0it [00:00, ?it/s]\u001b[A\n",
      "Validating:   0%|                                                                                                             | 0/5 [00:00<?, ?it/s]\u001b[A\n",
      "Epoch 40:  97%|████████████████████████████████████████████████████████████████████████▌  | 30/31 [00:02<00:00, 10.69it/s, loss=3.69e-06, v_num=367]\u001b[A\n",
      "Epoch 40: 100%|███████████████████████████████████████████████████████████████████████████| 31/31 [00:02<00:00, 10.57it/s, loss=3.69e-06, v_num=367]\u001b[A\n",
      "Epoch 41:  87%|█████████████████████████████████████████████████████████████████▎         | 27/31 [00:02<00:00, 10.67it/s, loss=3.28e-06, v_num=367]\u001b[A\n",
      "Validating: 0it [00:00, ?it/s]\u001b[A\n",
      "Validating:   0%|                                                                                                             | 0/5 [00:00<?, ?it/s]\u001b[A\n",
      "Epoch 41:  97%|████████████████████████████████████████████████████████████████████████▌  | 30/31 [00:02<00:00, 11.00it/s, loss=3.28e-06, v_num=367]\u001b[A\n",
      "Epoch 41: 100%|███████████████████████████████████████████████████████████████████████████| 31/31 [00:02<00:00, 10.88it/s, loss=3.28e-06, v_num=367]\u001b[A\n",
      "Epoch 42:  87%|█████████████████████████████████████████████████████████████████▎         | 27/31 [00:02<00:00, 10.57it/s, loss=3.69e-06, v_num=367]\u001b[A\n",
      "Validating: 0it [00:00, ?it/s]\u001b[A\n",
      "Validating:   0%|                                                                                                             | 0/5 [00:00<?, ?it/s]\u001b[A\n",
      "Epoch 42:  97%|████████████████████████████████████████████████████████████████████████▌  | 30/31 [00:02<00:00, 10.92it/s, loss=3.69e-06, v_num=367]\u001b[A\n",
      "Epoch 42: 100%|███████████████████████████████████████████████████████████████████████████| 31/31 [00:02<00:00, 10.81it/s, loss=3.69e-06, v_num=367]\u001b[A\n",
      "Epoch 43:  87%|█████████████████████████████████████████████████████████████████▎         | 27/31 [00:02<00:00, 10.23it/s, loss=2.11e-06, v_num=367]\u001b[A\n",
      "Validating: 0it [00:00, ?it/s]\u001b[A\n",
      "Validating:   0%|                                                                                                             | 0/5 [00:00<?, ?it/s]\u001b[A\n",
      "Epoch 43:  97%|████████████████████████████████████████████████████████████████████████▌  | 30/31 [00:02<00:00, 10.52it/s, loss=2.11e-06, v_num=367]\u001b[A\n",
      "Epoch 43: 100%|███████████████████████████████████████████████████████████████████████████| 31/31 [00:02<00:00, 10.46it/s, loss=2.11e-06, v_num=367]\u001b[A\n",
      "Epoch 44:  87%|█████████████████████████████████████████████████████████████████▎         | 27/31 [00:02<00:00, 10.49it/s, loss=3.02e-06, v_num=367]\u001b[A\n",
      "Validating: 0it [00:00, ?it/s]\u001b[A\n",
      "Validating:   0%|                                                                                                             | 0/5 [00:00<?, ?it/s]\u001b[A\n",
      "Epoch 44:  97%|████████████████████████████████████████████████████████████████████████▌  | 30/31 [00:02<00:00, 10.78it/s, loss=3.02e-06, v_num=367]\u001b[A\n",
      "Epoch 44: 100%|███████████████████████████████████████████████████████████████████████████| 31/31 [00:02<00:00, 10.67it/s, loss=3.02e-06, v_num=367]\u001b[A\n",
      "Epoch 45:  87%|█████████████████████████████████████████████████████████████████▎         | 27/31 [00:02<00:00, 10.56it/s, loss=2.97e-06, v_num=367]\u001b[A\n",
      "Validating: 0it [00:00, ?it/s]\u001b[A\n",
      "Validating:   0%|                                                                                                             | 0/5 [00:00<?, ?it/s]\u001b[A\n",
      "Epoch 45:  97%|████████████████████████████████████████████████████████████████████████▌  | 30/31 [00:02<00:00, 10.84it/s, loss=2.97e-06, v_num=367]\u001b[A\n",
      "Epoch 45: 100%|███████████████████████████████████████████████████████████████████████████| 31/31 [00:02<00:00, 10.76it/s, loss=2.97e-06, v_num=367]\u001b[A\n",
      "Epoch 46:  87%|█████████████████████████████████████████████████████████████████▎         | 27/31 [00:02<00:00, 10.33it/s, loss=3.16e-06, v_num=367]\u001b[A\n",
      "Validating: 0it [00:00, ?it/s]\u001b[A\n",
      "Validating:   0%|                                                                                                             | 0/5 [00:00<?, ?it/s]\u001b[A\n",
      "Epoch 46:  97%|████████████████████████████████████████████████████████████████████████▌  | 30/31 [00:02<00:00, 10.55it/s, loss=3.16e-06, v_num=367]\u001b[A\n",
      "Epoch 46: 100%|███████████████████████████████████████████████████████████████████████████| 31/31 [00:02<00:00, 10.49it/s, loss=3.16e-06, v_num=367]\u001b[A\n",
      "Epoch 47:  87%|█████████████████████████████████████████████████████████████████▎         | 27/31 [00:02<00:00, 10.54it/s, loss=2.12e-06, v_num=367]\u001b[A\n",
      "Validating: 0it [00:00, ?it/s]\u001b[A\n",
      "Validating:   0%|                                                                                                             | 0/5 [00:00<?, ?it/s]\u001b[A\n",
      "Epoch 47:  97%|████████████████████████████████████████████████████████████████████████▌  | 30/31 [00:02<00:00, 10.89it/s, loss=2.12e-06, v_num=367]\u001b[A\n",
      "Epoch 47: 100%|███████████████████████████████████████████████████████████████████████████| 31/31 [00:02<00:00, 10.76it/s, loss=2.12e-06, v_num=367]\u001b[A\n",
      "Epoch 48:  87%|█████████████████████████████████████████████████████████████████▎         | 27/31 [00:02<00:00, 10.50it/s, loss=1.93e-06, v_num=367]\u001b[A\n",
      "Validating: 0it [00:00, ?it/s]\u001b[A\n",
      "Validating:   0%|                                                                                                             | 0/5 [00:00<?, ?it/s]\u001b[A\n",
      "Epoch 48:  97%|████████████████████████████████████████████████████████████████████████▌  | 30/31 [00:02<00:00, 10.83it/s, loss=1.93e-06, v_num=367]\u001b[A\n",
      "Epoch 48: 100%|███████████████████████████████████████████████████████████████████████████| 31/31 [00:02<00:00, 10.74it/s, loss=1.93e-06, v_num=367]\u001b[A\n",
      "Epoch 49:  87%|███████████████████████████████████████████████████████████████████▉          | 27/31 [00:02<00:00, 10.32it/s, loss=2e-06, v_num=367]\u001b[A\n",
      "Validating: 0it [00:00, ?it/s]\u001b[A\n",
      "Validating:   0%|                                                                                                             | 0/5 [00:00<?, ?it/s]\u001b[A\n",
      "Epoch 49:  97%|███████████████████████████████████████████████████████████████████████████▍  | 30/31 [00:02<00:00, 10.62it/s, loss=2e-06, v_num=367]\u001b[A\n",
      "Epoch 49: 100%|██████████████████████████████████████████████████████████████████████████████| 31/31 [00:02<00:00, 10.53it/s, loss=2e-06, v_num=367]\u001b[A\n",
      "Epoch 49: 100%|██████████████████████████████████████████████████████████████████████████████| 31/31 [00:03<00:00,  9.73it/s, loss=2e-06, v_num=367]\u001b[A\n"
     ]
    }
   ],
   "source": [
    "classifer.fit(x_train, y_train, x_test, y_test, batch_size=64, max_epochs=50)"
   ]
  },
  {
   "cell_type": "code",
   "execution_count": 12,
   "id": "22f6cae1",
   "metadata": {},
   "outputs": [
    {
     "name": "stderr",
     "output_type": "stream",
     "text": [
      "GPU available: True, used: True\n",
      "TPU available: False, using: 0 TPU cores\n",
      "IPU available: False, using: 0 IPUs\n",
      "LOCAL_RANK: 0 - CUDA_VISIBLE_DEVICES: [0,1,2,3]\n"
     ]
    },
    {
     "name": "stdout",
     "output_type": "stream",
     "text": [
      "Predicting: 26it [00:00, ?it/s]\n"
     ]
    }
   ],
   "source": [
    "prediction_pre = classifer.predict(x_pred,batch_size=64)"
   ]
  },
  {
   "cell_type": "code",
   "execution_count": 13,
   "id": "97f2a16b",
   "metadata": {},
   "outputs": [
    {
     "data": {
      "text/plain": [
       "0.824969400244798"
      ]
     },
     "execution_count": 13,
     "metadata": {},
     "output_type": "execute_result"
    }
   ],
   "source": [
    "accuracy_score(y_pred,prediction_pre)"
   ]
  },
  {
   "cell_type": "markdown",
   "id": "884ce457",
   "metadata": {},
   "source": [
    "# InceptionTime"
   ]
  },
  {
   "cell_type": "code",
   "execution_count": 14,
   "id": "66f0ed09",
   "metadata": {},
   "outputs": [],
   "source": [
    "classifer = init_model(model_name='InceptionTime')"
   ]
  },
  {
   "cell_type": "code",
   "execution_count": 15,
   "id": "49a00e2e",
   "metadata": {},
   "outputs": [
    {
     "name": "stderr",
     "output_type": "stream",
     "text": [
      "GPU available: True, used: True\n",
      "TPU available: False, using: 0 TPU cores\n",
      "IPU available: False, using: 0 IPUs\n",
      "LOCAL_RANK: 0 - CUDA_VISIBLE_DEVICES: [0,1,2,3]\n",
      "\n",
      "  | Name                 | Type              | Params\n",
      "-----------------------------------------------------------\n",
      "0 | model_inception_list | ModuleList        | 473 K \n",
      "1 | model_shortcut_list  | ModuleList        | 19.7 K\n",
      "2 | globalavgpooling1d   | AdaptiveAvgPool1d | 0     \n",
      "3 | fc                   | Linear            | 258   \n",
      "4 | softmax              | Softmax           | 0     \n",
      "-----------------------------------------------------------\n",
      "493 K     Trainable params\n",
      "0         Non-trainable params\n",
      "493 K     Total params\n",
      "1.976     Total estimated model params size (MB)\n"
     ]
    },
    {
     "name": "stdout",
     "output_type": "stream",
     "text": [
      "Validation sanity check:   0%|                                                                                                | 0/2 [00:00<?, ?it/s]"
     ]
    },
    {
     "name": "stderr",
     "output_type": "stream",
     "text": [
      "/home/aorus-users/miniconda3/envs/env_zhengyang/lib/python3.9/site-packages/pytorch_lightning/trainer/data_loading.py:453: UserWarning: Your `val_dataloader` has `shuffle=True`,it is strongly recommended that you turn this off for val/test/predict dataloaders.\n",
      "  rank_zero_warn(\n"
     ]
    },
    {
     "name": "stdout",
     "output_type": "stream",
     "text": [
      "                                                                                                                                                    "
     ]
    },
    {
     "name": "stderr",
     "output_type": "stream",
     "text": [
      "/mnt/Data/Zhengyang/InceptionTime/classifiers/InceptionTime.py:136: UserWarning: Implicit dimension choice for softmax has been deprecated. Change the call to include dim=X as an argument.\n",
      "  x = self.softmax(x)\n",
      "/home/aorus-users/miniconda3/envs/env_zhengyang/lib/python3.9/site-packages/pytorch_lightning/trainer/data_loading.py:407: UserWarning: The number of training samples (26) is smaller than the logging interval Trainer(log_every_n_steps=50). Set a lower value for log_every_n_steps if you want to see logs for the training epoch.\n",
      "  rank_zero_warn(\n"
     ]
    },
    {
     "name": "stdout",
     "output_type": "stream",
     "text": [
      "Epoch 0:  84%|██████████████████████████████████████████████████████████████████▎            | 26/31 [00:01<00:00, 22.60it/s, loss=0.109, v_num=368]\n",
      "Validating: 0it [00:00, ?it/s]\u001b[A\n",
      "Validating:   0%|                                                                                                             | 0/5 [00:00<?, ?it/s]\u001b[A\n",
      "Epoch 0:  90%|███████████████████████████████████████████████████████████████████████▎       | 28/31 [00:01<00:00, 19.75it/s, loss=0.109, v_num=368]\u001b[A\n",
      "Epoch 0: 100%|███████████████████████████████████████████████████████████████████████████████| 31/31 [00:01<00:00, 20.36it/s, loss=0.109, v_num=368]\u001b[A\n",
      "Epoch 1:  84%|█████████████████████████████████████████████████████████████████▍            | 26/31 [00:01<00:00, 20.50it/s, loss=0.0401, v_num=368]\u001b[A\n",
      "Validating: 0it [00:00, ?it/s]\u001b[A\n",
      "Validating:   0%|                                                                                                             | 0/5 [00:00<?, ?it/s]\u001b[A\n",
      "Epoch 1: 100%|██████████████████████████████████████████████████████████████████████████████| 31/31 [00:01<00:00, 19.71it/s, loss=0.0401, v_num=368]\u001b[A\n",
      "Epoch 2:  84%|█████████████████████████████████████████████████████████████████▍            | 26/31 [00:01<00:00, 24.07it/s, loss=0.0251, v_num=368]\u001b[A\n",
      "Validating: 0it [00:00, ?it/s]\u001b[A\n",
      "Validating:   0%|                                                                                                             | 0/5 [00:00<?, ?it/s]\u001b[A\n",
      "Epoch 2: 100%|██████████████████████████████████████████████████████████████████████████████| 31/31 [00:01<00:00, 22.99it/s, loss=0.0251, v_num=368]\u001b[A\n",
      "Epoch 3:  84%|█████████████████████████████████████████████████████████████████▍            | 26/31 [00:01<00:00, 24.06it/s, loss=0.0139, v_num=368]\u001b[A\n",
      "Validating: 0it [00:00, ?it/s]\u001b[A\n",
      "Validating:   0%|                                                                                                             | 0/5 [00:00<?, ?it/s]\u001b[A\n",
      "Epoch 3:  90%|██████████████████████████████████████████████████████████████████████▍       | 28/31 [00:01<00:00, 22.36it/s, loss=0.0139, v_num=368]\u001b[A\n",
      "Epoch 3: 100%|██████████████████████████████████████████████████████████████████████████████| 31/31 [00:01<00:00, 22.88it/s, loss=0.0139, v_num=368]\u001b[A\n",
      "Epoch 4:  84%|█████████████████████████████████████████████████████████████████▍            | 26/31 [00:01<00:00, 23.20it/s, loss=0.0116, v_num=368]\u001b[A\n",
      "Validating: 0it [00:00, ?it/s]\u001b[A\n",
      "Validating:   0%|                                                                                                             | 0/5 [00:00<?, ?it/s]\u001b[A\n",
      "Epoch 4: 100%|██████████████████████████████████████████████████████████████████████████████| 31/31 [00:01<00:00, 21.97it/s, loss=0.0116, v_num=368]\u001b[A\n",
      "Epoch 5:  84%|█████████████████████████████████████████████████████████████████▍            | 26/31 [00:01<00:00, 23.62it/s, loss=0.0118, v_num=368]\u001b[A\n",
      "Validating: 0it [00:00, ?it/s]\u001b[A\n",
      "Validating:   0%|                                                                                                             | 0/5 [00:00<?, ?it/s]\u001b[A\n",
      "Epoch 5: 100%|██████████████████████████████████████████████████████████████████████████████| 31/31 [00:01<00:00, 22.58it/s, loss=0.0118, v_num=368]\u001b[A\n",
      "Epoch 6:  84%|██████████████████████████████████████████████████████████████████▎            | 26/31 [00:01<00:00, 23.71it/s, loss=0.014, v_num=368]\u001b[A\n",
      "Validating: 0it [00:00, ?it/s]\u001b[A\n",
      "Validating:   0%|                                                                                                             | 0/5 [00:00<?, ?it/s]\u001b[A\n",
      "Epoch 6: 100%|███████████████████████████████████████████████████████████████████████████████| 31/31 [00:01<00:00, 22.24it/s, loss=0.014, v_num=368]\u001b[A\n",
      "Epoch 7:  84%|████████████████████████████████████████████████████████████████▌            | 26/31 [00:01<00:00, 22.54it/s, loss=0.00789, v_num=368]\u001b[A\n",
      "Validating: 0it [00:00, ?it/s]\u001b[A\n",
      "Validating:   0%|                                                                                                             | 0/5 [00:00<?, ?it/s]\u001b[A\n",
      "Epoch 7:  90%|█████████████████████████████████████████████████████████████████████▌       | 28/31 [00:01<00:00, 20.49it/s, loss=0.00789, v_num=368]\u001b[A\n",
      "Epoch 7: 100%|█████████████████████████████████████████████████████████████████████████████| 31/31 [00:01<00:00, 21.06it/s, loss=0.00789, v_num=368]\u001b[A\n",
      "Epoch 8:  84%|████████████████████████████████████████████████████████████████▌            | 26/31 [00:01<00:00, 22.14it/s, loss=0.00708, v_num=368]\u001b[A\n",
      "Validating: 0it [00:00, ?it/s]\u001b[A\n",
      "Validating:   0%|                                                                                                             | 0/5 [00:00<?, ?it/s]\u001b[A\n",
      "Epoch 8:  90%|█████████████████████████████████████████████████████████████████████▌       | 28/31 [00:01<00:00, 19.04it/s, loss=0.00708, v_num=368]\u001b[A\n",
      "Epoch 8: 100%|█████████████████████████████████████████████████████████████████████████████| 31/31 [00:01<00:00, 19.04it/s, loss=0.00708, v_num=368]\u001b[A\n",
      "Epoch 9:  84%|████████████████████████████████████████████████████████████████▌            | 26/31 [00:01<00:00, 21.97it/s, loss=0.00718, v_num=368]\u001b[A\n",
      "Validating: 0it [00:00, ?it/s]\u001b[A\n",
      "Validating:   0%|                                                                                                             | 0/5 [00:00<?, ?it/s]\u001b[A\n",
      "Epoch 9: 100%|█████████████████████████████████████████████████████████████████████████████| 31/31 [00:01<00:00, 21.33it/s, loss=0.00718, v_num=368]\u001b[A\n",
      "Epoch 10:  84%|███████████████████████████████████████████████████████████████▋            | 26/31 [00:01<00:00, 22.98it/s, loss=0.00552, v_num=368]\u001b[A\n",
      "Validating: 0it [00:00, ?it/s]\u001b[A\n",
      "Validating:   0%|                                                                                                             | 0/5 [00:00<?, ?it/s]\u001b[A\n",
      "Epoch 10: 100%|████████████████████████████████████████████████████████████████████████████| 31/31 [00:01<00:00, 21.95it/s, loss=0.00552, v_num=368]\u001b[A\n",
      "Epoch 11:  84%|████████████████████████████████████████████████████████████████▌            | 26/31 [00:01<00:00, 23.27it/s, loss=0.0016, v_num=368]\u001b[A\n",
      "Validating: 0it [00:00, ?it/s]\u001b[A\n",
      "Validating:   0%|                                                                                                             | 0/5 [00:00<?, ?it/s]\u001b[A\n",
      "Epoch 11: 100%|█████████████████████████████████████████████████████████████████████████████| 31/31 [00:01<00:00, 21.79it/s, loss=0.0016, v_num=368]\u001b[A\n",
      "Epoch 12:  84%|██████████████████████████████████████████████████████████████▉            | 26/31 [00:01<00:00, 23.38it/s, loss=0.000869, v_num=368]\u001b[A\n",
      "Validating: 0it [00:00, ?it/s]\u001b[A\n",
      "Validating:   0%|                                                                                                             | 0/5 [00:00<?, ?it/s]\u001b[A\n",
      "Epoch 12:  90%|███████████████████████████████████████████████████████████████████▋       | 28/31 [00:01<00:00, 21.40it/s, loss=0.000869, v_num=368]\u001b[A\n",
      "Epoch 12: 100%|███████████████████████████████████████████████████████████████████████████| 31/31 [00:01<00:00, 21.88it/s, loss=0.000869, v_num=368]\u001b[A\n",
      "Epoch 13:  84%|██████████████████████████████████████████████████████████████▉            | 26/31 [00:01<00:00, 23.50it/s, loss=0.000725, v_num=368]\u001b[A\n",
      "Validating: 0it [00:00, ?it/s]\u001b[A\n",
      "Validating:   0%|                                                                                                             | 0/5 [00:00<?, ?it/s]\u001b[A\n",
      "Epoch 13:  90%|███████████████████████████████████████████████████████████████████▋       | 28/31 [00:01<00:00, 21.76it/s, loss=0.000725, v_num=368]\u001b[A\n",
      "Epoch 13: 100%|███████████████████████████████████████████████████████████████████████████| 31/31 [00:01<00:00, 20.93it/s, loss=0.000725, v_num=368]\u001b[A\n",
      "Epoch 14:  84%|██████████████████████████████████████████████████████████████▉            | 26/31 [00:01<00:00, 23.11it/s, loss=0.000732, v_num=368]\u001b[A\n",
      "Validating: 0it [00:00, ?it/s]\u001b[A\n",
      "Validating:   0%|                                                                                                             | 0/5 [00:00<?, ?it/s]\u001b[A\n",
      "Epoch 14:  90%|███████████████████████████████████████████████████████████████████▋       | 28/31 [00:01<00:00, 20.99it/s, loss=0.000732, v_num=368]\u001b[A\n",
      "Epoch 14: 100%|███████████████████████████████████████████████████████████████████████████| 31/31 [00:01<00:00, 21.49it/s, loss=0.000732, v_num=368]\u001b[A\n",
      "Epoch 15:  84%|██████████████████████████████████████████████████████████████▉            | 26/31 [00:01<00:00, 21.33it/s, loss=0.000438, v_num=368]\u001b[A\n",
      "Validating: 0it [00:00, ?it/s]\u001b[A\n",
      "Validating:   0%|                                                                                                             | 0/5 [00:00<?, ?it/s]\u001b[A\n",
      "Epoch 15:  90%|███████████████████████████████████████████████████████████████████▋       | 28/31 [00:01<00:00, 18.10it/s, loss=0.000438, v_num=368]\u001b[A\n",
      "Epoch 15: 100%|███████████████████████████████████████████████████████████████████████████| 31/31 [00:01<00:00, 18.52it/s, loss=0.000438, v_num=368]\u001b[A\n",
      "Epoch 16:  84%|██████████████████████████████████████████████████████████████▉            | 26/31 [00:01<00:00, 22.73it/s, loss=0.000378, v_num=368]\u001b[A\n",
      "Validating: 0it [00:00, ?it/s]\u001b[A\n",
      "Validating:   0%|                                                                                                             | 0/5 [00:00<?, ?it/s]\u001b[A\n",
      "Epoch 16: 100%|███████████████████████████████████████████████████████████████████████████| 31/31 [00:01<00:00, 21.47it/s, loss=0.000378, v_num=368]\u001b[A\n",
      "Epoch 17:  84%|████████████████████████████████████████████████████████████████▌            | 26/31 [00:01<00:00, 23.77it/s, loss=0.0103, v_num=368]\u001b[A\n",
      "Validating: 0it [00:00, ?it/s]\u001b[A\n",
      "Validating:   0%|                                                                                                             | 0/5 [00:00<?, ?it/s]\u001b[A\n",
      "Epoch 17:  90%|█████████████████████████████████████████████████████████████████████▌       | 28/31 [00:01<00:00, 21.49it/s, loss=0.0103, v_num=368]\u001b[A\n",
      "Epoch 17: 100%|█████████████████████████████████████████████████████████████████████████████| 31/31 [00:01<00:00, 21.97it/s, loss=0.0103, v_num=368]\u001b[A\n",
      "Epoch 18:  84%|████████████████████████████████████████████████████████████████▌            | 26/31 [00:01<00:00, 24.17it/s, loss=0.0418, v_num=368]\u001b[A\n",
      "Validating: 0it [00:00, ?it/s]\u001b[A\n",
      "Validating:   0%|                                                                                                             | 0/5 [00:00<?, ?it/s]\u001b[A\n",
      "Epoch 18:  90%|█████████████████████████████████████████████████████████████████████▌       | 28/31 [00:01<00:00, 21.82it/s, loss=0.0418, v_num=368]\u001b[A\n",
      "Epoch 18: 100%|█████████████████████████████████████████████████████████████████████████████| 31/31 [00:01<00:00, 22.37it/s, loss=0.0418, v_num=368]\u001b[A\n",
      "Epoch 19:  84%|████████████████████████████████████████████████████████████████▌            | 26/31 [00:01<00:00, 24.26it/s, loss=0.0245, v_num=368]\u001b[A\n",
      "Validating: 0it [00:00, ?it/s]\u001b[A\n",
      "Validating:   0%|                                                                                                             | 0/5 [00:00<?, ?it/s]\u001b[A\n",
      "Epoch 19: 100%|█████████████████████████████████████████████████████████████████████████████| 31/31 [00:01<00:00, 23.23it/s, loss=0.0245, v_num=368]\u001b[A\n",
      "Epoch 20:  84%|████████████████████████████████████████████████████████████████▌            | 26/31 [00:01<00:00, 23.10it/s, loss=0.0126, v_num=368]\u001b[A\n",
      "Validating: 0it [00:00, ?it/s]\u001b[A\n",
      "Validating:   0%|                                                                                                             | 0/5 [00:00<?, ?it/s]\u001b[A\n",
      "Epoch 20:  90%|█████████████████████████████████████████████████████████████████████▌       | 28/31 [00:01<00:00, 21.02it/s, loss=0.0126, v_num=368]\u001b[A\n",
      "Epoch 20: 100%|█████████████████████████████████████████████████████████████████████████████| 31/31 [00:01<00:00, 21.60it/s, loss=0.0126, v_num=368]\u001b[A\n",
      "Epoch 21:  84%|███████████████████████████████████████████████████████████████▋            | 26/31 [00:01<00:00, 21.17it/s, loss=0.00206, v_num=368]\u001b[A\n",
      "Validating: 0it [00:00, ?it/s]\u001b[A\n",
      "Validating:   0%|                                                                                                             | 0/5 [00:00<?, ?it/s]\u001b[A\n",
      "Epoch 21:  90%|████████████████████████████████████████████████████████████████████▋       | 28/31 [00:01<00:00, 18.85it/s, loss=0.00206, v_num=368]\u001b[A\n",
      "Epoch 21: 100%|████████████████████████████████████████████████████████████████████████████| 31/31 [00:01<00:00, 19.54it/s, loss=0.00206, v_num=368]\u001b[A\n",
      "Epoch 22:  84%|██████████████████████████████████████████████████████████████▉            | 26/31 [00:01<00:00, 20.39it/s, loss=0.000734, v_num=368]\u001b[A\n",
      "Validating: 0it [00:00, ?it/s]\u001b[A\n",
      "Validating:   0%|                                                                                                             | 0/5 [00:00<?, ?it/s]\u001b[A\n",
      "Epoch 22:  90%|███████████████████████████████████████████████████████████████████▋       | 28/31 [00:01<00:00, 18.03it/s, loss=0.000734, v_num=368]\u001b[A\n",
      "Epoch 22: 100%|███████████████████████████████████████████████████████████████████████████| 31/31 [00:01<00:00, 18.33it/s, loss=0.000734, v_num=368]\u001b[A\n",
      "Epoch 23:  84%|██████████████████████████████████████████████████████████████▉            | 26/31 [00:01<00:00, 22.64it/s, loss=0.000676, v_num=368]\u001b[A\n",
      "Validating: 0it [00:00, ?it/s]\u001b[A\n",
      "Validating:   0%|                                                                                                             | 0/5 [00:00<?, ?it/s]\u001b[A\n",
      "Epoch 23: 100%|███████████████████████████████████████████████████████████████████████████| 31/31 [00:01<00:00, 21.43it/s, loss=0.000676, v_num=368]\u001b[A\n",
      "Epoch 24:  84%|███████████████████████████████████████████████████████████████▋            | 26/31 [00:01<00:00, 22.73it/s, loss=0.00144, v_num=368]\u001b[A\n",
      "Validating: 0it [00:00, ?it/s]\u001b[A\n",
      "Validating:   0%|                                                                                                             | 0/5 [00:00<?, ?it/s]\u001b[A\n",
      "Epoch 24: 100%|████████████████████████████████████████████████████████████████████████████| 31/31 [00:01<00:00, 21.22it/s, loss=0.00144, v_num=368]\u001b[A\n",
      "Epoch 25:  84%|███████████████████████████████████████████████████████████████▋            | 26/31 [00:01<00:00, 23.32it/s, loss=0.00103, v_num=368]\u001b[A\n",
      "Validating: 0it [00:00, ?it/s]\u001b[A\n",
      "Validating:   0%|                                                                                                             | 0/5 [00:00<?, ?it/s]\u001b[A\n",
      "Epoch 25:  90%|████████████████████████████████████████████████████████████████████▋       | 28/31 [00:01<00:00, 21.03it/s, loss=0.00103, v_num=368]\u001b[A\n",
      "Epoch 25: 100%|████████████████████████████████████████████████████████████████████████████| 31/31 [00:01<00:00, 21.59it/s, loss=0.00103, v_num=368]\u001b[A\n",
      "Epoch 26:  84%|██████████████████████████████████████████████████████████████▉            | 26/31 [00:01<00:00, 23.60it/s, loss=0.000589, v_num=368]\u001b[A\n",
      "Validating: 0it [00:00, ?it/s]\u001b[A\n",
      "Validating:   0%|                                                                                                             | 0/5 [00:00<?, ?it/s]\u001b[A\n",
      "Epoch 26:  90%|███████████████████████████████████████████████████████████████████▋       | 28/31 [00:01<00:00, 21.51it/s, loss=0.000589, v_num=368]\u001b[A\n",
      "Epoch 26: 100%|███████████████████████████████████████████████████████████████████████████| 31/31 [00:01<00:00, 22.00it/s, loss=0.000589, v_num=368]\u001b[A\n",
      "Epoch 27:  84%|██████████████████████████████████████████████████████████████▉            | 26/31 [00:01<00:00, 23.39it/s, loss=0.000826, v_num=368]\u001b[A\n",
      "Validating: 0it [00:00, ?it/s]\u001b[A\n",
      "Validating:   0%|                                                                                                             | 0/5 [00:00<?, ?it/s]\u001b[A\n",
      "Epoch 27:  90%|███████████████████████████████████████████████████████████████████▋       | 28/31 [00:01<00:00, 21.53it/s, loss=0.000826, v_num=368]\u001b[A\n",
      "Epoch 27: 100%|███████████████████████████████████████████████████████████████████████████| 31/31 [00:01<00:00, 21.16it/s, loss=0.000826, v_num=368]\u001b[A\n"
     ]
    },
    {
     "name": "stdout",
     "output_type": "stream",
     "text": [
      "Epoch 28:  84%|██████████████████████████████████████████████████████████████▉            | 26/31 [00:01<00:00, 22.43it/s, loss=0.000906, v_num=368]\u001b[A\n",
      "Validating: 0it [00:00, ?it/s]\u001b[A\n",
      "Validating:   0%|                                                                                                             | 0/5 [00:00<?, ?it/s]\u001b[A\n",
      "Epoch 28:  90%|███████████████████████████████████████████████████████████████████▋       | 28/31 [00:01<00:00, 20.54it/s, loss=0.000906, v_num=368]\u001b[A\n",
      "Epoch 28: 100%|███████████████████████████████████████████████████████████████████████████| 31/31 [00:01<00:00, 21.16it/s, loss=0.000906, v_num=368]\u001b[A\n",
      "Epoch 29:  84%|██████████████████████████████████████████████████████████████▉            | 26/31 [00:01<00:00, 20.91it/s, loss=0.000686, v_num=368]\u001b[A\n",
      "Validating: 0it [00:00, ?it/s]\u001b[A\n",
      "Validating:   0%|                                                                                                             | 0/5 [00:00<?, ?it/s]\u001b[A\n",
      "Epoch 29:  90%|███████████████████████████████████████████████████████████████████▋       | 28/31 [00:01<00:00, 18.44it/s, loss=0.000686, v_num=368]\u001b[A\n",
      "Epoch 29: 100%|███████████████████████████████████████████████████████████████████████████| 31/31 [00:01<00:00, 18.85it/s, loss=0.000686, v_num=368]\u001b[A\n",
      "Epoch 30:  84%|██████████████████████████████████████████████████████████████▉            | 26/31 [00:01<00:00, 23.52it/s, loss=0.000492, v_num=368]\u001b[A\n",
      "Validating: 0it [00:00, ?it/s]\u001b[A\n",
      "Validating:   0%|                                                                                                             | 0/5 [00:00<?, ?it/s]\u001b[A\n",
      "Epoch 30: 100%|███████████████████████████████████████████████████████████████████████████| 31/31 [00:01<00:00, 21.91it/s, loss=0.000492, v_num=368]\u001b[A\n",
      "Epoch 31:  84%|██████████████████████████████████████████████████████████████▉            | 26/31 [00:01<00:00, 23.39it/s, loss=0.000367, v_num=368]\u001b[A\n",
      "Validating: 0it [00:00, ?it/s]\u001b[A\n",
      "Validating:   0%|                                                                                                             | 0/5 [00:00<?, ?it/s]\u001b[A\n",
      "Epoch 31: 100%|███████████████████████████████████████████████████████████████████████████| 31/31 [00:01<00:00, 21.91it/s, loss=0.000367, v_num=368]\u001b[A\n",
      "Epoch 32:  84%|██████████████████████████████████████████████████████████████▉            | 26/31 [00:01<00:00, 24.36it/s, loss=0.000416, v_num=368]\u001b[A\n",
      "Validating: 0it [00:00, ?it/s]\u001b[A\n",
      "Validating:   0%|                                                                                                             | 0/5 [00:00<?, ?it/s]\u001b[A\n",
      "Epoch 32:  90%|███████████████████████████████████████████████████████████████████▋       | 28/31 [00:01<00:00, 22.11it/s, loss=0.000416, v_num=368]\u001b[A\n",
      "Epoch 32: 100%|███████████████████████████████████████████████████████████████████████████| 31/31 [00:01<00:00, 22.59it/s, loss=0.000416, v_num=368]\u001b[A\n",
      "Epoch 33:  84%|███████████████████████████████████████████████████████████████▋            | 26/31 [00:01<00:00, 23.62it/s, loss=0.00123, v_num=368]\u001b[A\n",
      "Validating: 0it [00:00, ?it/s]\u001b[A\n",
      "Validating:   0%|                                                                                                             | 0/5 [00:00<?, ?it/s]\u001b[A\n",
      "Epoch 33:  90%|████████████████████████████████████████████████████████████████████▋       | 28/31 [00:01<00:00, 21.53it/s, loss=0.00123, v_num=368]\u001b[A\n",
      "Epoch 33: 100%|████████████████████████████████████████████████████████████████████████████| 31/31 [00:01<00:00, 22.08it/s, loss=0.00123, v_num=368]\u001b[A\n",
      "Epoch 34:  84%|███████████████████████████████████████████████████████████████▋            | 26/31 [00:01<00:00, 23.45it/s, loss=0.00149, v_num=368]\u001b[A\n",
      "Validating: 0it [00:00, ?it/s]\u001b[A\n",
      "Validating:   0%|                                                                                                             | 0/5 [00:00<?, ?it/s]\u001b[A\n",
      "Epoch 34:  90%|████████████████████████████████████████████████████████████████████▋       | 28/31 [00:01<00:00, 21.70it/s, loss=0.00149, v_num=368]\u001b[A\n",
      "Epoch 34: 100%|████████████████████████████████████████████████████████████████████████████| 31/31 [00:01<00:00, 22.25it/s, loss=0.00149, v_num=368]\u001b[A\n",
      "Epoch 35:  84%|██████████████████████████████████████████████████████████████▉            | 26/31 [00:01<00:00, 21.93it/s, loss=0.000957, v_num=368]\u001b[A\n",
      "Validating: 0it [00:00, ?it/s]\u001b[A\n",
      "Validating:   0%|                                                                                                             | 0/5 [00:00<?, ?it/s]\u001b[A\n",
      "Epoch 35: 100%|███████████████████████████████████████████████████████████████████████████| 31/31 [00:01<00:00, 20.74it/s, loss=0.000957, v_num=368]\u001b[A\n",
      "Epoch 36:  84%|██████████████████████████████████████████████████████████████▉            | 26/31 [00:01<00:00, 21.32it/s, loss=0.000129, v_num=368]\u001b[A\n",
      "Validating: 0it [00:00, ?it/s]\u001b[A\n",
      "Validating:   0%|                                                                                                             | 0/5 [00:00<?, ?it/s]\u001b[A\n",
      "Epoch 36:  90%|███████████████████████████████████████████████████████████████████▋       | 28/31 [00:01<00:00, 18.43it/s, loss=0.000129, v_num=368]\u001b[A\n",
      "Epoch 36: 100%|███████████████████████████████████████████████████████████████████████████| 31/31 [00:01<00:00, 18.73it/s, loss=0.000129, v_num=368]\u001b[A\n",
      "Epoch 37:  84%|███████████████████████████████████████████████████████████████▋            | 26/31 [00:01<00:00, 23.20it/s, loss=0.00193, v_num=368]\u001b[A\n",
      "Validating: 0it [00:00, ?it/s]\u001b[A\n",
      "Validating:   0%|                                                                                                             | 0/5 [00:00<?, ?it/s]\u001b[A\n",
      "Epoch 37:  90%|████████████████████████████████████████████████████████████████████▋       | 28/31 [00:01<00:00, 21.57it/s, loss=0.00193, v_num=368]\u001b[A\n",
      "Epoch 37: 100%|████████████████████████████████████████████████████████████████████████████| 31/31 [00:01<00:00, 21.81it/s, loss=0.00193, v_num=368]\u001b[A\n",
      "Epoch 38:  84%|████████████████████████████████████████████████████████████████▌            | 26/31 [00:01<00:00, 23.63it/s, loss=0.0208, v_num=368]\u001b[A\n",
      "Validating: 0it [00:00, ?it/s]\u001b[A\n",
      "Validating:   0%|                                                                                                             | 0/5 [00:00<?, ?it/s]\u001b[A\n",
      "Epoch 38: 100%|█████████████████████████████████████████████████████████████████████████████| 31/31 [00:01<00:00, 21.88it/s, loss=0.0208, v_num=368]\u001b[A\n",
      "Epoch 39:  84%|████████████████████████████████████████████████████████████████▌            | 26/31 [00:01<00:00, 24.31it/s, loss=0.0179, v_num=368]\u001b[A\n",
      "Validating: 0it [00:00, ?it/s]\u001b[A\n",
      "Validating:   0%|                                                                                                             | 0/5 [00:00<?, ?it/s]\u001b[A\n",
      "Epoch 39:  90%|█████████████████████████████████████████████████████████████████████▌       | 28/31 [00:01<00:00, 21.86it/s, loss=0.0179, v_num=368]\u001b[A\n",
      "Epoch 39: 100%|█████████████████████████████████████████████████████████████████████████████| 31/31 [00:01<00:00, 22.33it/s, loss=0.0179, v_num=368]\u001b[A\n",
      "Epoch 40:  84%|███████████████████████████████████████████████████████████████▋            | 26/31 [00:01<00:00, 24.03it/s, loss=0.00709, v_num=368]\u001b[A\n",
      "Validating: 0it [00:00, ?it/s]\u001b[A\n",
      "Validating:   0%|                                                                                                             | 0/5 [00:00<?, ?it/s]\u001b[A\n",
      "Epoch 40: 100%|████████████████████████████████████████████████████████████████████████████| 31/31 [00:01<00:00, 22.45it/s, loss=0.00709, v_num=368]\u001b[A\n",
      "Epoch 41:  84%|████████████████████████████████████████████████████████████████▌            | 26/31 [00:01<00:00, 23.08it/s, loss=0.0037, v_num=368]\u001b[A\n",
      "Validating: 0it [00:00, ?it/s]\u001b[A\n",
      "Validating:   0%|                                                                                                             | 0/5 [00:00<?, ?it/s]\u001b[A\n",
      "Epoch 41:  90%|█████████████████████████████████████████████████████████████████████▌       | 28/31 [00:01<00:00, 21.27it/s, loss=0.0037, v_num=368]\u001b[A\n",
      "Epoch 41: 100%|█████████████████████████████████████████████████████████████████████████████| 31/31 [00:01<00:00, 21.76it/s, loss=0.0037, v_num=368]\u001b[A\n",
      "Epoch 42:  84%|███████████████████████████████████████████████████████████████▋            | 26/31 [00:01<00:00, 22.02it/s, loss=0.00367, v_num=368]\u001b[A\n",
      "Validating: 0it [00:00, ?it/s]\u001b[A\n",
      "Validating:   0%|                                                                                                             | 0/5 [00:00<?, ?it/s]\u001b[A\n",
      "Epoch 42: 100%|████████████████████████████████████████████████████████████████████████████| 31/31 [00:01<00:00, 20.99it/s, loss=0.00367, v_num=368]\u001b[A\n",
      "Epoch 43:  84%|███████████████████████████████████████████████████████████████▋            | 26/31 [00:01<00:00, 21.83it/s, loss=0.00555, v_num=368]\u001b[A\n",
      "Validating: 0it [00:00, ?it/s]\u001b[A\n",
      "Validating:   0%|                                                                                                             | 0/5 [00:00<?, ?it/s]\u001b[A\n",
      "Epoch 43:  90%|████████████████████████████████████████████████████████████████████▋       | 28/31 [00:01<00:00, 19.40it/s, loss=0.00555, v_num=368]\u001b[A\n",
      "Epoch 43: 100%|████████████████████████████████████████████████████████████████████████████| 31/31 [00:01<00:00, 19.38it/s, loss=0.00555, v_num=368]\u001b[A\n",
      "Epoch 44:  84%|███████████████████████████████████████████████████████████████▋            | 26/31 [00:01<00:00, 21.23it/s, loss=0.00127, v_num=368]\u001b[A\n",
      "Validating: 0it [00:00, ?it/s]\u001b[A\n",
      "Validating:   0%|                                                                                                             | 0/5 [00:00<?, ?it/s]\u001b[A\n",
      "Epoch 44: 100%|████████████████████████████████████████████████████████████████████████████| 31/31 [00:01<00:00, 20.06it/s, loss=0.00127, v_num=368]\u001b[A\n",
      "Epoch 45:  84%|██████████████████████████████████████████████████████████████▉            | 26/31 [00:01<00:00, 23.72it/s, loss=0.000597, v_num=368]\u001b[A\n",
      "Validating: 0it [00:00, ?it/s]\u001b[A\n",
      "Validating:   0%|                                                                                                             | 0/5 [00:00<?, ?it/s]\u001b[A\n",
      "Epoch 45: 100%|███████████████████████████████████████████████████████████████████████████| 31/31 [00:01<00:00, 22.43it/s, loss=0.000597, v_num=368]\u001b[A\n",
      "Epoch 46:  84%|██████████████████████████████████████████████████████████████▉            | 26/31 [00:01<00:00, 23.32it/s, loss=0.000217, v_num=368]\u001b[A\n",
      "Validating: 0it [00:00, ?it/s]\u001b[A\n",
      "Validating:   0%|                                                                                                             | 0/5 [00:00<?, ?it/s]\u001b[A\n",
      "Epoch 46:  90%|███████████████████████████████████████████████████████████████████▋       | 28/31 [00:01<00:00, 21.12it/s, loss=0.000217, v_num=368]\u001b[A\n",
      "Epoch 46: 100%|███████████████████████████████████████████████████████████████████████████| 31/31 [00:01<00:00, 21.58it/s, loss=0.000217, v_num=368]\u001b[A\n",
      "Epoch 47:  84%|██████████████████████████████████████████████████████████████▉            | 26/31 [00:01<00:00, 24.33it/s, loss=0.000275, v_num=368]\u001b[A\n",
      "Validating: 0it [00:00, ?it/s]\u001b[A\n",
      "Validating:   0%|                                                                                                             | 0/5 [00:00<?, ?it/s]\u001b[A\n",
      "Epoch 47:  90%|███████████████████████████████████████████████████████████████████▋       | 28/31 [00:01<00:00, 22.42it/s, loss=0.000275, v_num=368]\u001b[A\n",
      "Epoch 47: 100%|███████████████████████████████████████████████████████████████████████████| 31/31 [00:01<00:00, 22.74it/s, loss=0.000275, v_num=368]\u001b[A\n",
      "Epoch 48:  84%|██████████████████████████████████████████████████████████████▉            | 26/31 [00:01<00:00, 24.04it/s, loss=0.000115, v_num=368]\u001b[A\n",
      "Validating: 0it [00:00, ?it/s]\u001b[A\n",
      "Validating:   0%|                                                                                                             | 0/5 [00:00<?, ?it/s]\u001b[A\n",
      "Epoch 48: 100%|███████████████████████████████████████████████████████████████████████████| 31/31 [00:01<00:00, 22.54it/s, loss=0.000115, v_num=368]\u001b[A\n",
      "Epoch 49:  84%|██████████████████████████████████████████████████████████████▉            | 26/31 [00:01<00:00, 21.94it/s, loss=0.000171, v_num=368]\u001b[A\n",
      "Validating: 0it [00:00, ?it/s]\u001b[A\n",
      "Validating:   0%|                                                                                                             | 0/5 [00:00<?, ?it/s]\u001b[A\n",
      "Epoch 49: 100%|███████████████████████████████████████████████████████████████████████████| 31/31 [00:01<00:00, 20.68it/s, loss=0.000171, v_num=368]\u001b[A\n",
      "Epoch 49: 100%|███████████████████████████████████████████████████████████████████████████| 31/31 [00:01<00:00, 20.23it/s, loss=0.000171, v_num=368]\u001b[A\n"
     ]
    }
   ],
   "source": [
    "classifer.fit(x_train, y_train, x_test, y_test, batch_size=64, max_epochs=50)"
   ]
  },
  {
   "cell_type": "code",
   "execution_count": 16,
   "id": "1334c2bb",
   "metadata": {},
   "outputs": [
    {
     "name": "stderr",
     "output_type": "stream",
     "text": [
      "GPU available: True, used: True\n",
      "TPU available: False, using: 0 TPU cores\n",
      "IPU available: False, using: 0 IPUs\n",
      "LOCAL_RANK: 0 - CUDA_VISIBLE_DEVICES: [0,1,2,3]\n"
     ]
    },
    {
     "name": "stdout",
     "output_type": "stream",
     "text": [
      "Predicting: 26it [00:00, ?it/s]\n"
     ]
    }
   ],
   "source": [
    "prediction_pre = classifer.predict(x_pred,batch_size=64)"
   ]
  },
  {
   "cell_type": "code",
   "execution_count": 17,
   "id": "547e9902",
   "metadata": {},
   "outputs": [
    {
     "data": {
      "text/plain": [
       "0.8164014687882497"
      ]
     },
     "execution_count": 17,
     "metadata": {},
     "output_type": "execute_result"
    }
   ],
   "source": [
    "accuracy_score(y_pred,prediction_pre)"
   ]
  },
  {
   "cell_type": "code",
   "execution_count": null,
   "id": "ac035bf1",
   "metadata": {},
   "outputs": [],
   "source": []
  },
  {
   "cell_type": "markdown",
   "id": "c31f8288",
   "metadata": {},
   "source": [
    "# KNN_DTW(GPU)"
   ]
  },
  {
   "cell_type": "code",
   "execution_count": 4,
   "id": "aba138cf",
   "metadata": {},
   "outputs": [
    {
     "data": {
      "text/plain": [
       "0.7747858017135862"
      ]
     },
     "execution_count": 4,
     "metadata": {},
     "output_type": "execute_result"
    }
   ],
   "source": [
    "classifer = init_model(model_name= 'KNN_DTW')\n",
    "classifer.fit(x_train, y_train)\n",
    "prediction_pre = classifer.predict(x_pred,k=3)\n",
    "accuracy_score(y_pred,prediction_pre)"
   ]
  },
  {
   "cell_type": "code",
   "execution_count": null,
   "id": "2a518e49",
   "metadata": {},
   "outputs": [],
   "source": []
  }
 ],
 "metadata": {
  "kernelspec": {
   "display_name": "Python 3 (ipykernel)",
   "language": "python",
   "name": "python3"
  },
  "language_info": {
   "codemirror_mode": {
    "name": "ipython",
    "version": 3
   },
   "file_extension": ".py",
   "mimetype": "text/x-python",
   "name": "python",
   "nbconvert_exporter": "python",
   "pygments_lexer": "ipython3",
   "version": "3.9.7"
  }
 },
 "nbformat": 4,
 "nbformat_minor": 5
}
